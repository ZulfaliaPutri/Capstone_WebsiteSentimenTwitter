{
  "nbformat": 4,
  "nbformat_minor": 0,
  "metadata": {
    "colab": {
      "name": "Binary Label with Deep Learning Method.ipynb",
      "provenance": [],
      "authorship_tag": "ABX9TyM6HyVkG0sl7k7F/wHci1X/",
      "include_colab_link": true
    },
    "kernelspec": {
      "name": "python3",
      "display_name": "Python 3"
    },
    "language_info": {
      "name": "python"
    }
  },
  "cells": [
    {
      "cell_type": "markdown",
      "metadata": {
        "id": "view-in-github",
        "colab_type": "text"
      },
      "source": [
        "<a href=\"https://colab.research.google.com/github/ZulfaliaPutri/Capstone_WebsiteSentimenTwitter/blob/main/Binary_Label_with_Deep_Learning_Method.ipynb\" target=\"_parent\"><img src=\"https://colab.research.google.com/assets/colab-badge.svg\" alt=\"Open In Colab\"/></a>"
      ]
    },
    {
      "cell_type": "markdown",
      "metadata": {
        "id": "TtpWCCAy-Sau"
      },
      "source": [
        "**Import Library**"
      ]
    },
    {
      "cell_type": "code",
      "metadata": {
        "colab": {
          "base_uri": "https://localhost:8080/"
        },
        "id": "J7e-oLHUpGcI",
        "outputId": "243c69fb-869c-438b-f302-abe49879fe7d"
      },
      "source": [
        "from google.colab import drive\n",
        "import os\n",
        "import pandas as pd\n",
        "import numpy as np\n",
        "import seaborn as sns\n",
        "from sklearn.model_selection import train_test_split, StratifiedKFold, cross_val_score\n",
        "import nltk\n",
        "nltk.download('stopwords')\n",
        "from nltk.tokenize import TweetTokenizer\n",
        "from nltk.corpus import stopwords\n",
        "\n",
        "from keras.models import Model\n",
        "from keras.layers import LSTM, Activation, Dense, Dropout, Input, Embedding\n",
        "from tensorflow.keras.optimizers import RMSprop\n",
        "from keras.preprocessing.text import Tokenizer\n",
        "from keras.preprocessing import sequence\n",
        "from keras.callbacks import EarlyStopping"
      ],
      "execution_count": 56,
      "outputs": [
        {
          "output_type": "stream",
          "name": "stdout",
          "text": [
            "[nltk_data] Downloading package stopwords to /root/nltk_data...\n",
            "[nltk_data]   Package stopwords is already up-to-date!\n"
          ]
        }
      ]
    },
    {
      "cell_type": "markdown",
      "metadata": {
        "id": "Pl5lI0rm-ZMd"
      },
      "source": [
        "**Load Data**"
      ]
    },
    {
      "cell_type": "code",
      "metadata": {
        "colab": {
          "base_uri": "https://localhost:8080/"
        },
        "id": "J9KY7Nv8pOyn",
        "outputId": "05005195-6418-4126-ded6-3fc0d755fb9e"
      },
      "source": [
        "drive.mount('/content/gdrive')"
      ],
      "execution_count": 57,
      "outputs": [
        {
          "output_type": "stream",
          "name": "stdout",
          "text": [
            "Drive already mounted at /content/gdrive; to attempt to forcibly remount, call drive.mount(\"/content/gdrive\", force_remount=True).\n"
          ]
        }
      ]
    },
    {
      "cell_type": "code",
      "metadata": {
        "colab": {
          "base_uri": "https://localhost:8080/",
          "height": 206
        },
        "id": "ICGm37VdpPO-",
        "outputId": "28b94e31-8cf4-4f9a-8308-8fabdb13c959"
      },
      "source": [
        "df = pd.read_csv('/content/gdrive/My Drive/Capstone/dataset/data_clean.csv')\n",
        "df.head()"
      ],
      "execution_count": 58,
      "outputs": [
        {
          "output_type": "execute_result",
          "data": {
            "text/html": [
              "<div>\n",
              "<style scoped>\n",
              "    .dataframe tbody tr th:only-of-type {\n",
              "        vertical-align: middle;\n",
              "    }\n",
              "\n",
              "    .dataframe tbody tr th {\n",
              "        vertical-align: top;\n",
              "    }\n",
              "\n",
              "    .dataframe thead th {\n",
              "        text-align: right;\n",
              "    }\n",
              "</style>\n",
              "<table border=\"1\" class=\"dataframe\">\n",
              "  <thead>\n",
              "    <tr style=\"text-align: right;\">\n",
              "      <th></th>\n",
              "      <th>Unnamed: 0</th>\n",
              "      <th>Tweet</th>\n",
              "      <th>HS</th>\n",
              "      <th>Abusive</th>\n",
              "    </tr>\n",
              "  </thead>\n",
              "  <tbody>\n",
              "    <tr>\n",
              "      <th>0</th>\n",
              "      <td>0</td>\n",
              "      <td>cowok usaha lacak perhati gue lantas remeh per...</td>\n",
              "      <td>1</td>\n",
              "      <td>1</td>\n",
              "    </tr>\n",
              "    <tr>\n",
              "      <th>1</th>\n",
              "      <td>1</td>\n",
              "      <td>rt guna guna telat tau edan sarap gue gaul cig...</td>\n",
              "      <td>0</td>\n",
              "      <td>1</td>\n",
              "    </tr>\n",
              "    <tr>\n",
              "      <th>2</th>\n",
              "      <td>2</td>\n",
              "      <td>41 kadang pikir percaya tuhan jatuh kali kali ...</td>\n",
              "      <td>0</td>\n",
              "      <td>0</td>\n",
              "    </tr>\n",
              "    <tr>\n",
              "      <th>3</th>\n",
              "      <td>3</td>\n",
              "      <td>guna guna ku tau mata sipit</td>\n",
              "      <td>0</td>\n",
              "      <td>0</td>\n",
              "    </tr>\n",
              "    <tr>\n",
              "      <th>4</th>\n",
              "      <td>4</td>\n",
              "      <td>guna guna kaum cebong kafir dongok dungu haha</td>\n",
              "      <td>1</td>\n",
              "      <td>1</td>\n",
              "    </tr>\n",
              "  </tbody>\n",
              "</table>\n",
              "</div>"
            ],
            "text/plain": [
              "   Unnamed: 0                                              Tweet  HS  Abusive\n",
              "0           0  cowok usaha lacak perhati gue lantas remeh per...   1        1\n",
              "1           1  rt guna guna telat tau edan sarap gue gaul cig...   0        1\n",
              "2           2  41 kadang pikir percaya tuhan jatuh kali kali ...   0        0\n",
              "3           3                        guna guna ku tau mata sipit   0        0\n",
              "4           4      guna guna kaum cebong kafir dongok dungu haha   1        1"
            ]
          },
          "metadata": {},
          "execution_count": 58
        }
      ]
    },
    {
      "cell_type": "markdown",
      "metadata": {
        "id": "_pzAmlHw-dq0"
      },
      "source": [
        "**Menggabungkan label Hate Speech dan Abusive**"
      ]
    },
    {
      "cell_type": "code",
      "metadata": {
        "colab": {
          "base_uri": "https://localhost:8080/",
          "height": 424
        },
        "id": "58A8Z4f6p5vR",
        "outputId": "e5dae84b-3f6e-48ef-9f1c-38122d3c828b"
      },
      "source": [
        "df['HS_Abusive'] = np.where((df['HS'] == 1) | (df['Abusive'] == 1), 1, 0)\n",
        "df"
      ],
      "execution_count": 59,
      "outputs": [
        {
          "output_type": "execute_result",
          "data": {
            "text/html": [
              "<div>\n",
              "<style scoped>\n",
              "    .dataframe tbody tr th:only-of-type {\n",
              "        vertical-align: middle;\n",
              "    }\n",
              "\n",
              "    .dataframe tbody tr th {\n",
              "        vertical-align: top;\n",
              "    }\n",
              "\n",
              "    .dataframe thead th {\n",
              "        text-align: right;\n",
              "    }\n",
              "</style>\n",
              "<table border=\"1\" class=\"dataframe\">\n",
              "  <thead>\n",
              "    <tr style=\"text-align: right;\">\n",
              "      <th></th>\n",
              "      <th>Unnamed: 0</th>\n",
              "      <th>Tweet</th>\n",
              "      <th>HS</th>\n",
              "      <th>Abusive</th>\n",
              "      <th>HS_Abusive</th>\n",
              "    </tr>\n",
              "  </thead>\n",
              "  <tbody>\n",
              "    <tr>\n",
              "      <th>0</th>\n",
              "      <td>0</td>\n",
              "      <td>cowok usaha lacak perhati gue lantas remeh per...</td>\n",
              "      <td>1</td>\n",
              "      <td>1</td>\n",
              "      <td>1</td>\n",
              "    </tr>\n",
              "    <tr>\n",
              "      <th>1</th>\n",
              "      <td>1</td>\n",
              "      <td>rt guna guna telat tau edan sarap gue gaul cig...</td>\n",
              "      <td>0</td>\n",
              "      <td>1</td>\n",
              "      <td>1</td>\n",
              "    </tr>\n",
              "    <tr>\n",
              "      <th>2</th>\n",
              "      <td>2</td>\n",
              "      <td>41 kadang pikir percaya tuhan jatuh kali kali ...</td>\n",
              "      <td>0</td>\n",
              "      <td>0</td>\n",
              "      <td>0</td>\n",
              "    </tr>\n",
              "    <tr>\n",
              "      <th>3</th>\n",
              "      <td>3</td>\n",
              "      <td>guna guna ku tau mata sipit</td>\n",
              "      <td>0</td>\n",
              "      <td>0</td>\n",
              "      <td>0</td>\n",
              "    </tr>\n",
              "    <tr>\n",
              "      <th>4</th>\n",
              "      <td>4</td>\n",
              "      <td>guna guna kaum cebong kafir dongok dungu haha</td>\n",
              "      <td>1</td>\n",
              "      <td>1</td>\n",
              "      <td>1</td>\n",
              "    </tr>\n",
              "    <tr>\n",
              "      <th>...</th>\n",
              "      <td>...</td>\n",
              "      <td>...</td>\n",
              "      <td>...</td>\n",
              "      <td>...</td>\n",
              "      <td>...</td>\n",
              "    </tr>\n",
              "    <tr>\n",
              "      <th>13164</th>\n",
              "      <td>13164</td>\n",
              "      <td>guna bicara ndasmu congor sekata anjing</td>\n",
              "      <td>1</td>\n",
              "      <td>1</td>\n",
              "      <td>1</td>\n",
              "    </tr>\n",
              "    <tr>\n",
              "      <th>13165</th>\n",
              "      <td>13165</td>\n",
              "      <td>guna kasur enak kunyuk</td>\n",
              "      <td>0</td>\n",
              "      <td>1</td>\n",
              "      <td>1</td>\n",
              "    </tr>\n",
              "    <tr>\n",
              "      <th>13166</th>\n",
              "      <td>13166</td>\n",
              "      <td>guna hati hati bisu bosan duh x98</td>\n",
              "      <td>0</td>\n",
              "      <td>0</td>\n",
              "      <td>0</td>\n",
              "    </tr>\n",
              "    <tr>\n",
              "      <th>13167</th>\n",
              "      <td>13167</td>\n",
              "      <td>guna guna guna guna bom real mudah deteksi bom...</td>\n",
              "      <td>0</td>\n",
              "      <td>0</td>\n",
              "      <td>0</td>\n",
              "    </tr>\n",
              "    <tr>\n",
              "      <th>13168</th>\n",
              "      <td>13168</td>\n",
              "      <td>guna situ foto ya kutil onta</td>\n",
              "      <td>1</td>\n",
              "      <td>1</td>\n",
              "      <td>1</td>\n",
              "    </tr>\n",
              "  </tbody>\n",
              "</table>\n",
              "<p>13169 rows × 5 columns</p>\n",
              "</div>"
            ],
            "text/plain": [
              "       Unnamed: 0  ... HS_Abusive\n",
              "0               0  ...          1\n",
              "1               1  ...          1\n",
              "2               2  ...          0\n",
              "3               3  ...          0\n",
              "4               4  ...          1\n",
              "...           ...  ...        ...\n",
              "13164       13164  ...          1\n",
              "13165       13165  ...          1\n",
              "13166       13166  ...          0\n",
              "13167       13167  ...          0\n",
              "13168       13168  ...          1\n",
              "\n",
              "[13169 rows x 5 columns]"
            ]
          },
          "metadata": {},
          "execution_count": 59
        }
      ]
    },
    {
      "cell_type": "markdown",
      "metadata": {
        "id": "XSseqF0l-l09"
      },
      "source": [
        "**Menghapus kolom yang tidak diperlukan**"
      ]
    },
    {
      "cell_type": "code",
      "metadata": {
        "colab": {
          "base_uri": "https://localhost:8080/",
          "height": 424
        },
        "id": "WGJgcbCUpUd6",
        "outputId": "ccbcd543-c044-4a2d-e593-596c919b9203"
      },
      "source": [
        "df = df.drop(columns=[\"Unnamed: 0\",\"HS\",\"Abusive\"])\n",
        "df"
      ],
      "execution_count": 60,
      "outputs": [
        {
          "output_type": "execute_result",
          "data": {
            "text/html": [
              "<div>\n",
              "<style scoped>\n",
              "    .dataframe tbody tr th:only-of-type {\n",
              "        vertical-align: middle;\n",
              "    }\n",
              "\n",
              "    .dataframe tbody tr th {\n",
              "        vertical-align: top;\n",
              "    }\n",
              "\n",
              "    .dataframe thead th {\n",
              "        text-align: right;\n",
              "    }\n",
              "</style>\n",
              "<table border=\"1\" class=\"dataframe\">\n",
              "  <thead>\n",
              "    <tr style=\"text-align: right;\">\n",
              "      <th></th>\n",
              "      <th>Tweet</th>\n",
              "      <th>HS_Abusive</th>\n",
              "    </tr>\n",
              "  </thead>\n",
              "  <tbody>\n",
              "    <tr>\n",
              "      <th>0</th>\n",
              "      <td>cowok usaha lacak perhati gue lantas remeh per...</td>\n",
              "      <td>1</td>\n",
              "    </tr>\n",
              "    <tr>\n",
              "      <th>1</th>\n",
              "      <td>rt guna guna telat tau edan sarap gue gaul cig...</td>\n",
              "      <td>1</td>\n",
              "    </tr>\n",
              "    <tr>\n",
              "      <th>2</th>\n",
              "      <td>41 kadang pikir percaya tuhan jatuh kali kali ...</td>\n",
              "      <td>0</td>\n",
              "    </tr>\n",
              "    <tr>\n",
              "      <th>3</th>\n",
              "      <td>guna guna ku tau mata sipit</td>\n",
              "      <td>0</td>\n",
              "    </tr>\n",
              "    <tr>\n",
              "      <th>4</th>\n",
              "      <td>guna guna kaum cebong kafir dongok dungu haha</td>\n",
              "      <td>1</td>\n",
              "    </tr>\n",
              "    <tr>\n",
              "      <th>...</th>\n",
              "      <td>...</td>\n",
              "      <td>...</td>\n",
              "    </tr>\n",
              "    <tr>\n",
              "      <th>13164</th>\n",
              "      <td>guna bicara ndasmu congor sekata anjing</td>\n",
              "      <td>1</td>\n",
              "    </tr>\n",
              "    <tr>\n",
              "      <th>13165</th>\n",
              "      <td>guna kasur enak kunyuk</td>\n",
              "      <td>1</td>\n",
              "    </tr>\n",
              "    <tr>\n",
              "      <th>13166</th>\n",
              "      <td>guna hati hati bisu bosan duh x98</td>\n",
              "      <td>0</td>\n",
              "    </tr>\n",
              "    <tr>\n",
              "      <th>13167</th>\n",
              "      <td>guna guna guna guna bom real mudah deteksi bom...</td>\n",
              "      <td>0</td>\n",
              "    </tr>\n",
              "    <tr>\n",
              "      <th>13168</th>\n",
              "      <td>guna situ foto ya kutil onta</td>\n",
              "      <td>1</td>\n",
              "    </tr>\n",
              "  </tbody>\n",
              "</table>\n",
              "<p>13169 rows × 2 columns</p>\n",
              "</div>"
            ],
            "text/plain": [
              "                                                   Tweet  HS_Abusive\n",
              "0      cowok usaha lacak perhati gue lantas remeh per...           1\n",
              "1      rt guna guna telat tau edan sarap gue gaul cig...           1\n",
              "2      41 kadang pikir percaya tuhan jatuh kali kali ...           0\n",
              "3                            guna guna ku tau mata sipit           0\n",
              "4          guna guna kaum cebong kafir dongok dungu haha           1\n",
              "...                                                  ...         ...\n",
              "13164            guna bicara ndasmu congor sekata anjing           1\n",
              "13165                             guna kasur enak kunyuk           1\n",
              "13166                  guna hati hati bisu bosan duh x98           0\n",
              "13167  guna guna guna guna bom real mudah deteksi bom...           0\n",
              "13168                       guna situ foto ya kutil onta           1\n",
              "\n",
              "[13169 rows x 2 columns]"
            ]
          },
          "metadata": {},
          "execution_count": 60
        }
      ]
    },
    {
      "cell_type": "code",
      "metadata": {
        "colab": {
          "base_uri": "https://localhost:8080/",
          "height": 297
        },
        "id": "PsEo1mQ99Zln",
        "outputId": "edef73c3-2d63-460e-ccdc-972233c66441"
      },
      "source": [
        "sns.countplot(x='HS_Abusive', data=df)"
      ],
      "execution_count": 61,
      "outputs": [
        {
          "output_type": "execute_result",
          "data": {
            "text/plain": [
              "<matplotlib.axes._subplots.AxesSubplot at 0x7f53c99e0490>"
            ]
          },
          "metadata": {},
          "execution_count": 61
        },
        {
          "output_type": "display_data",
          "data": {
            "image/png": "[encoded data removed]",
            "text/plain": [
              "<Figure size 432x288 with 1 Axes>"
            ]
          },
          "metadata": {
            "needs_background": "light"
          }
        }
      ]
    },
    {
      "cell_type": "code",
      "metadata": {
        "colab": {
          "base_uri": "https://localhost:8080/"
        },
        "id": "IoSAAFKh9otV",
        "outputId": "e6022067-f447-4dee-af51-d615b7b06ac5"
      },
      "source": [
        "df.isnull().sum()"
      ],
      "execution_count": 62,
      "outputs": [
        {
          "output_type": "execute_result",
          "data": {
            "text/plain": [
              "Tweet         6\n",
              "HS_Abusive    0\n",
              "dtype: int64"
            ]
          },
          "metadata": {},
          "execution_count": 62
        }
      ]
    },
    {
      "cell_type": "markdown",
      "metadata": {
        "id": "PJFFUaNS-r3l"
      },
      "source": [
        "**Menghapus baris yang memiliki nilai null**"
      ]
    },
    {
      "cell_type": "code",
      "metadata": {
        "colab": {
          "base_uri": "https://localhost:8080/",
          "height": 424
        },
        "id": "nzxCqBWM91gG",
        "outputId": "7b65d3c1-31fb-46d3-9b7a-08775ab673dc"
      },
      "source": [
        "df = df.dropna()\n",
        "df"
      ],
      "execution_count": 63,
      "outputs": [
        {
          "output_type": "execute_result",
          "data": {
            "text/html": [
              "<div>\n",
              "<style scoped>\n",
              "    .dataframe tbody tr th:only-of-type {\n",
              "        vertical-align: middle;\n",
              "    }\n",
              "\n",
              "    .dataframe tbody tr th {\n",
              "        vertical-align: top;\n",
              "    }\n",
              "\n",
              "    .dataframe thead th {\n",
              "        text-align: right;\n",
              "    }\n",
              "</style>\n",
              "<table border=\"1\" class=\"dataframe\">\n",
              "  <thead>\n",
              "    <tr style=\"text-align: right;\">\n",
              "      <th></th>\n",
              "      <th>Tweet</th>\n",
              "      <th>HS_Abusive</th>\n",
              "    </tr>\n",
              "  </thead>\n",
              "  <tbody>\n",
              "    <tr>\n",
              "      <th>0</th>\n",
              "      <td>cowok usaha lacak perhati gue lantas remeh per...</td>\n",
              "      <td>1</td>\n",
              "    </tr>\n",
              "    <tr>\n",
              "      <th>1</th>\n",
              "      <td>rt guna guna telat tau edan sarap gue gaul cig...</td>\n",
              "      <td>1</td>\n",
              "    </tr>\n",
              "    <tr>\n",
              "      <th>2</th>\n",
              "      <td>41 kadang pikir percaya tuhan jatuh kali kali ...</td>\n",
              "      <td>0</td>\n",
              "    </tr>\n",
              "    <tr>\n",
              "      <th>3</th>\n",
              "      <td>guna guna ku tau mata sipit</td>\n",
              "      <td>0</td>\n",
              "    </tr>\n",
              "    <tr>\n",
              "      <th>4</th>\n",
              "      <td>guna guna kaum cebong kafir dongok dungu haha</td>\n",
              "      <td>1</td>\n",
              "    </tr>\n",
              "    <tr>\n",
              "      <th>...</th>\n",
              "      <td>...</td>\n",
              "      <td>...</td>\n",
              "    </tr>\n",
              "    <tr>\n",
              "      <th>13164</th>\n",
              "      <td>guna bicara ndasmu congor sekata anjing</td>\n",
              "      <td>1</td>\n",
              "    </tr>\n",
              "    <tr>\n",
              "      <th>13165</th>\n",
              "      <td>guna kasur enak kunyuk</td>\n",
              "      <td>1</td>\n",
              "    </tr>\n",
              "    <tr>\n",
              "      <th>13166</th>\n",
              "      <td>guna hati hati bisu bosan duh x98</td>\n",
              "      <td>0</td>\n",
              "    </tr>\n",
              "    <tr>\n",
              "      <th>13167</th>\n",
              "      <td>guna guna guna guna bom real mudah deteksi bom...</td>\n",
              "      <td>0</td>\n",
              "    </tr>\n",
              "    <tr>\n",
              "      <th>13168</th>\n",
              "      <td>guna situ foto ya kutil onta</td>\n",
              "      <td>1</td>\n",
              "    </tr>\n",
              "  </tbody>\n",
              "</table>\n",
              "<p>13163 rows × 2 columns</p>\n",
              "</div>"
            ],
            "text/plain": [
              "                                                   Tweet  HS_Abusive\n",
              "0      cowok usaha lacak perhati gue lantas remeh per...           1\n",
              "1      rt guna guna telat tau edan sarap gue gaul cig...           1\n",
              "2      41 kadang pikir percaya tuhan jatuh kali kali ...           0\n",
              "3                            guna guna ku tau mata sipit           0\n",
              "4          guna guna kaum cebong kafir dongok dungu haha           1\n",
              "...                                                  ...         ...\n",
              "13164            guna bicara ndasmu congor sekata anjing           1\n",
              "13165                             guna kasur enak kunyuk           1\n",
              "13166                  guna hati hati bisu bosan duh x98           0\n",
              "13167  guna guna guna guna bom real mudah deteksi bom...           0\n",
              "13168                       guna situ foto ya kutil onta           1\n",
              "\n",
              "[13163 rows x 2 columns]"
            ]
          },
          "metadata": {},
          "execution_count": 63
        }
      ]
    },
    {
      "cell_type": "code",
      "metadata": {
        "colab": {
          "base_uri": "https://localhost:8080/"
        },
        "id": "SZ-ohfRQ95dF",
        "outputId": "ca3eda73-fc73-49ee-876a-0a1cad96c644"
      },
      "source": [
        "df.isnull().sum()"
      ],
      "execution_count": 64,
      "outputs": [
        {
          "output_type": "execute_result",
          "data": {
            "text/plain": [
              "Tweet         0\n",
              "HS_Abusive    0\n",
              "dtype: int64"
            ]
          },
          "metadata": {},
          "execution_count": 64
        }
      ]
    },
    {
      "cell_type": "markdown",
      "metadata": {
        "id": "IzqiEtrHu4WL"
      },
      "source": [
        "**Menambahkan kolom length yang menampung panjang dari setiap tweet**"
      ]
    },
    {
      "cell_type": "code",
      "metadata": {
        "colab": {
          "base_uri": "https://localhost:8080/",
          "height": 528
        },
        "id": "2thTn7RNu2p-",
        "outputId": "a7a23f1c-8364-4bcb-cc1d-c8d92b53a91d"
      },
      "source": [
        "df['length'] = df['Tweet'].apply(len)\n",
        "df"
      ],
      "execution_count": 65,
      "outputs": [
        {
          "output_type": "stream",
          "name": "stderr",
          "text": [
            "/usr/local/lib/python3.7/dist-packages/ipykernel_launcher.py:1: SettingWithCopyWarning: \n",
            "A value is trying to be set on a copy of a slice from a DataFrame.\n",
            "Try using .loc[row_indexer,col_indexer] = value instead\n",
            "\n",
            "See the caveats in the documentation: https://pandas.pydata.org/pandas-docs/stable/user_guide/indexing.html#returning-a-view-versus-a-copy\n",
            "  \"\"\"Entry point for launching an IPython kernel.\n"
          ]
        },
        {
          "output_type": "execute_result",
          "data": {
            "text/html": [
              "<div>\n",
              "<style scoped>\n",
              "    .dataframe tbody tr th:only-of-type {\n",
              "        vertical-align: middle;\n",
              "    }\n",
              "\n",
              "    .dataframe tbody tr th {\n",
              "        vertical-align: top;\n",
              "    }\n",
              "\n",
              "    .dataframe thead th {\n",
              "        text-align: right;\n",
              "    }\n",
              "</style>\n",
              "<table border=\"1\" class=\"dataframe\">\n",
              "  <thead>\n",
              "    <tr style=\"text-align: right;\">\n",
              "      <th></th>\n",
              "      <th>Tweet</th>\n",
              "      <th>HS_Abusive</th>\n",
              "      <th>length</th>\n",
              "    </tr>\n",
              "  </thead>\n",
              "  <tbody>\n",
              "    <tr>\n",
              "      <th>0</th>\n",
              "      <td>cowok usaha lacak perhati gue lantas remeh per...</td>\n",
              "      <td>1</td>\n",
              "      <td>84</td>\n",
              "    </tr>\n",
              "    <tr>\n",
              "      <th>1</th>\n",
              "      <td>rt guna guna telat tau edan sarap gue gaul cig...</td>\n",
              "      <td>1</td>\n",
              "      <td>64</td>\n",
              "    </tr>\n",
              "    <tr>\n",
              "      <th>2</th>\n",
              "      <td>41 kadang pikir percaya tuhan jatuh kali kali ...</td>\n",
              "      <td>0</td>\n",
              "      <td>119</td>\n",
              "    </tr>\n",
              "    <tr>\n",
              "      <th>3</th>\n",
              "      <td>guna guna ku tau mata sipit</td>\n",
              "      <td>0</td>\n",
              "      <td>27</td>\n",
              "    </tr>\n",
              "    <tr>\n",
              "      <th>4</th>\n",
              "      <td>guna guna kaum cebong kafir dongok dungu haha</td>\n",
              "      <td>1</td>\n",
              "      <td>45</td>\n",
              "    </tr>\n",
              "    <tr>\n",
              "      <th>...</th>\n",
              "      <td>...</td>\n",
              "      <td>...</td>\n",
              "      <td>...</td>\n",
              "    </tr>\n",
              "    <tr>\n",
              "      <th>13164</th>\n",
              "      <td>guna bicara ndasmu congor sekata anjing</td>\n",
              "      <td>1</td>\n",
              "      <td>39</td>\n",
              "    </tr>\n",
              "    <tr>\n",
              "      <th>13165</th>\n",
              "      <td>guna kasur enak kunyuk</td>\n",
              "      <td>1</td>\n",
              "      <td>22</td>\n",
              "    </tr>\n",
              "    <tr>\n",
              "      <th>13166</th>\n",
              "      <td>guna hati hati bisu bosan duh x98</td>\n",
              "      <td>0</td>\n",
              "      <td>33</td>\n",
              "    </tr>\n",
              "    <tr>\n",
              "      <th>13167</th>\n",
              "      <td>guna guna guna guna bom real mudah deteksi bom...</td>\n",
              "      <td>0</td>\n",
              "      <td>80</td>\n",
              "    </tr>\n",
              "    <tr>\n",
              "      <th>13168</th>\n",
              "      <td>guna situ foto ya kutil onta</td>\n",
              "      <td>1</td>\n",
              "      <td>28</td>\n",
              "    </tr>\n",
              "  </tbody>\n",
              "</table>\n",
              "<p>13163 rows × 3 columns</p>\n",
              "</div>"
            ],
            "text/plain": [
              "                                                   Tweet  HS_Abusive  length\n",
              "0      cowok usaha lacak perhati gue lantas remeh per...           1      84\n",
              "1      rt guna guna telat tau edan sarap gue gaul cig...           1      64\n",
              "2      41 kadang pikir percaya tuhan jatuh kali kali ...           0     119\n",
              "3                            guna guna ku tau mata sipit           0      27\n",
              "4          guna guna kaum cebong kafir dongok dungu haha           1      45\n",
              "...                                                  ...         ...     ...\n",
              "13164            guna bicara ndasmu congor sekata anjing           1      39\n",
              "13165                             guna kasur enak kunyuk           1      22\n",
              "13166                  guna hati hati bisu bosan duh x98           0      33\n",
              "13167  guna guna guna guna bom real mudah deteksi bom...           0      80\n",
              "13168                       guna situ foto ya kutil onta           1      28\n",
              "\n",
              "[13163 rows x 3 columns]"
            ]
          },
          "metadata": {},
          "execution_count": 65
        }
      ]
    },
    {
      "cell_type": "markdown",
      "metadata": {
        "id": "PZsLr70_-zSc"
      },
      "source": [
        "**Mendefinisikan nilai X dan y**"
      ]
    },
    {
      "cell_type": "code",
      "metadata": {
        "id": "co1RojReqXNM"
      },
      "source": [
        "X = df['Tweet'].values\n",
        "y = df['HS_Abusive'].values\n",
        "X_train, X_test, y_train, y_test = train_test_split(X, y, test_size = 0.20, random_state = 42)"
      ],
      "execution_count": 66,
      "outputs": []
    },
    {
      "cell_type": "code",
      "metadata": {
        "id": "_uy_O3wwqo9d"
      },
      "source": [
        "from tensorflow.keras.preprocessing.text import Tokenizer\n",
        "from tensorflow.keras.preprocessing.sequence import pad_sequences\n",
        "\n",
        "# Embedding Layer\n",
        "tokenizer = Tokenizer(num_words=10000)\n",
        "tokenizer.fit_on_texts(X_train)\n",
        "\n",
        "X_train = tokenizer.texts_to_sequences(X_train)\n",
        "X_test = tokenizer.texts_to_sequences(X_test)\n",
        "\n",
        "# Adding 1 because of reserved 0 index\n",
        "vocab_size = len(tokenizer.word_index) + 1\n",
        "\n",
        "maxlen = max(df['length'])\n",
        "\n",
        "X_train = pad_sequences(X_train, padding='post', maxlen=maxlen)\n",
        "X_test = pad_sequences(X_test, padding='post', maxlen=maxlen)"
      ],
      "execution_count": 67,
      "outputs": []
    },
    {
      "cell_type": "code",
      "metadata": {
        "id": "eUl27nww6-Ms"
      },
      "source": [
        "from numpy import asarray\n",
        "#Fasttext Embedding\n",
        "#file source : https://github.com/meisaputri21/Indonesian-Twitter-Emotion-Dataset\n",
        "embeddings_dictionary = dict()\n",
        "fasttext = open('/content/gdrive/My Drive/Capstone/cc.id.300.vec', encoding='utf-8')\n",
        "\n",
        "for line in fasttext:\n",
        "    records = line.split()\n",
        "    word = records[0]\n",
        "    vector_dimensions = asarray(records[1:], dtype='float32')\n",
        "    embeddings_dictionary[word] = vector_dimensions\n",
        "fasttext.close()"
      ],
      "execution_count": 68,
      "outputs": []
    },
    {
      "cell_type": "code",
      "metadata": {
        "colab": {
          "base_uri": "https://localhost:8080/"
        },
        "id": "ZiLlrwyt7Jqj",
        "outputId": "4fc15690-4ca4-496e-dff4-49f6fbf2d627"
      },
      "source": [
        "from numpy import zeros\n",
        "import numpy as np\n",
        "# Membuat embedding matrix\n",
        "null_word=[]\n",
        "embedding_matrix = zeros((vocab_size, 300))\n",
        "for word, index in tokenizer.word_index.items():\n",
        "    embedding_vector = embeddings_dictionary.get(word)\n",
        "    if embedding_vector is not None:\n",
        "      embedding_matrix[index] = embedding_vector\n",
        "    else:\n",
        "      #word.append(null_word)\n",
        "      null_word += [word]\n",
        "print('number of null word embeddings: %d' % np.sum(np.sum(embedding_matrix, axis=1) == 0))"
      ],
      "execution_count": 69,
      "outputs": [
        {
          "output_type": "stream",
          "name": "stdout",
          "text": [
            "number of null word embeddings: 619\n"
          ]
        }
      ]
    },
    {
      "cell_type": "markdown",
      "metadata": {
        "id": "LNEOpT_7hv6m"
      },
      "source": [
        "**Modelling with Bidirectional GRU-CNN-LSTM**"
      ]
    },
    {
      "cell_type": "code",
      "metadata": {
        "id": "b5bTNjZ56kn2"
      },
      "source": [
        "from keras.layers import Dense, Input, LSTM, Embedding, Dropout, Activation, Conv1D, GRU, BatchNormalization\n",
        "from keras.layers import Bidirectional, GlobalMaxPool1D, MaxPooling1D, Add, Flatten\n",
        "from keras.layers import GlobalAveragePooling1D, GlobalMaxPooling1D, concatenate, SpatialDropout1D\n",
        "from keras.models import Model, load_model\n",
        "from keras import initializers, regularizers, constraints, optimizers, layers, callbacks\n",
        "from keras import backend as K\n",
        "from tensorflow.keras.layers import Layer, InputSpec\n",
        "\n",
        "import logging\n",
        "from sklearn.metrics import roc_auc_score\n",
        "from keras.callbacks import Callback\n",
        "\n",
        "from tensorflow.keras.optimizers import Adam, RMSprop\n",
        "from keras.callbacks import EarlyStopping, ModelCheckpoint, LearningRateScheduler\n",
        "\n",
        "#Buat function model\n",
        "embed_size = 300\n",
        "max_features = vocab_size\n",
        "\n",
        "def build_model(lr = 0.0, lr_d = 0.0, units = 0, dr = 0.0):\n",
        "    inp = Input(shape = (maxlen,))\n",
        "    x = Embedding(max_features, embed_size, weights = [embedding_matrix], trainable = False)(inp)\n",
        "    x1 = SpatialDropout1D(dr)(x)\n",
        "\n",
        "    x = Bidirectional(GRU(units, return_sequences = True))(x1)\n",
        "    #x = Conv1D(int(units/2), kernel_size = 2, kernel_regularizer=regularizers.l2(0.001), activation='relu')(x)\n",
        "    x = Conv1D(int(units/2), kernel_size = 2, padding = \"valid\", kernel_initializer = \"he_uniform\")(x)\n",
        "    \n",
        "    y = Bidirectional(LSTM(units, return_sequences = True))(x1)\n",
        "    #y = Conv1D(int(units/2), kernel_size = 2, kernel_regularizer=regularizers.l2(0.001), activation='relu')(y)\n",
        "    y = Conv1D(int(units/2), kernel_size = 2, padding = \"valid\", kernel_initializer = \"he_uniform\")(y)\n",
        "    \n",
        "    avg_pool1 = GlobalAveragePooling1D()(x)\n",
        "    max_pool1 = GlobalMaxPooling1D()(x)\n",
        "    \n",
        "    avg_pool2 = GlobalAveragePooling1D()(y)\n",
        "    max_pool2 = GlobalMaxPooling1D()(y)\n",
        "    \n",
        "    x = concatenate([avg_pool1, max_pool1, avg_pool2, max_pool2])\n",
        "    x = Dense(16, activation=\"relu\")(x)\n",
        "    #x = Dropout(0.5)(x)\n",
        "    x = Dense(32, activation=\"relu\")(x)\n",
        "    x = Dropout(0.2)(x)\n",
        "    #x = Dense(64, activation=\"relu\")(x)\n",
        "    #x = Dropout(0.1)(x)\n",
        "    x = Dense(1, activation = \"sigmoid\")(x)\n",
        "    model = Model(inputs = inp, outputs = x)\n",
        "    model.compile(loss = \"binary_crossentropy\", optimizer = Adam(learning_rate = lr, decay = lr_d), metrics = [\"accuracy\"])\n",
        "\n",
        "    return model"
      ],
      "execution_count": 74,
      "outputs": []
    },
    {
      "cell_type": "code",
      "metadata": {
        "colab": {
          "base_uri": "https://localhost:8080/"
        },
        "id": "omp1TUi_7YbE",
        "outputId": "938d453c-b2b4-4362-a1e5-c134343287c6"
      },
      "source": [
        "model = build_model(lr = 1e-3, lr_d = 0, units = 112, dr = 0.2)\n",
        "model.summary()"
      ],
      "execution_count": 75,
      "outputs": [
        {
          "output_type": "stream",
          "name": "stdout",
          "text": [
            "Model: \"model_2\"\n",
            "__________________________________________________________________________________________________\n",
            " Layer (type)                   Output Shape         Param #     Connected to                     \n",
            "==================================================================================================\n",
            " input_2 (InputLayer)           [(None, 348)]        0           []                               \n",
            "                                                                                                  \n",
            " embedding_7 (Embedding)        (None, 348, 300)     3255000     ['input_2[0][0]']                \n",
            "                                                                                                  \n",
            " spatial_dropout1d_1 (SpatialDr  (None, 348, 300)    0           ['embedding_7[0][0]']            \n",
            " opout1D)                                                                                         \n",
            "                                                                                                  \n",
            " bidirectional_2 (Bidirectional  (None, 348, 224)    278208      ['spatial_dropout1d_1[0][0]']    \n",
            " )                                                                                                \n",
            "                                                                                                  \n",
            " bidirectional_3 (Bidirectional  (None, 348, 224)    370048      ['spatial_dropout1d_1[0][0]']    \n",
            " )                                                                                                \n",
            "                                                                                                  \n",
            " conv1d_4 (Conv1D)              (None, 347, 56)      25144       ['bidirectional_2[0][0]']        \n",
            "                                                                                                  \n",
            " conv1d_5 (Conv1D)              (None, 347, 56)      25144       ['bidirectional_3[0][0]']        \n",
            "                                                                                                  \n",
            " global_average_pooling1d_4 (Gl  (None, 56)          0           ['conv1d_4[0][0]']               \n",
            " obalAveragePooling1D)                                                                            \n",
            "                                                                                                  \n",
            " global_max_pooling1d_2 (Global  (None, 56)          0           ['conv1d_4[0][0]']               \n",
            " MaxPooling1D)                                                                                    \n",
            "                                                                                                  \n",
            " global_average_pooling1d_5 (Gl  (None, 56)          0           ['conv1d_5[0][0]']               \n",
            " obalAveragePooling1D)                                                                            \n",
            "                                                                                                  \n",
            " global_max_pooling1d_3 (Global  (None, 56)          0           ['conv1d_5[0][0]']               \n",
            " MaxPooling1D)                                                                                    \n",
            "                                                                                                  \n",
            " concatenate_1 (Concatenate)    (None, 224)          0           ['global_average_pooling1d_4[0][0\n",
            "                                                                 ]',                              \n",
            "                                                                  'global_max_pooling1d_2[0][0]', \n",
            "                                                                  'global_average_pooling1d_5[0][0\n",
            "                                                                 ]',                              \n",
            "                                                                  'global_max_pooling1d_3[0][0]'] \n",
            "                                                                                                  \n",
            " dense_8 (Dense)                (None, 16)           3600        ['concatenate_1[0][0]']          \n",
            "                                                                                                  \n",
            " dense_9 (Dense)                (None, 32)           544         ['dense_8[0][0]']                \n",
            "                                                                                                  \n",
            " dropout_2 (Dropout)            (None, 32)           0           ['dense_9[0][0]']                \n",
            "                                                                                                  \n",
            " dense_10 (Dense)               (None, 1)            33          ['dropout_2[0][0]']              \n",
            "                                                                                                  \n",
            "==================================================================================================\n",
            "Total params: 3,957,721\n",
            "Trainable params: 702,721\n",
            "Non-trainable params: 3,255,000\n",
            "__________________________________________________________________________________________________\n"
          ]
        }
      ]
    },
    {
      "cell_type": "code",
      "metadata": {
        "colab": {
          "base_uri": "https://localhost:8080/"
        },
        "id": "Jg3nXdK87bPv",
        "outputId": "86e11a02-b7c8-496c-c8a4-04a85aeb66a2"
      },
      "source": [
        "import tensorflow as tf\n",
        "\n",
        "#Predict model\n",
        "callbacks = tf.keras.callbacks.EarlyStopping(monitor='val_accuracy', min_delta=0, patience=10, verbose=2, mode='auto', restore_best_weights=True)\n",
        "#history = model.fit(X_train, y_train, batch_size = 128, epochs = 50, validation_data = (X_test, y_test), verbose = 1, callbacks=[callbacks])\n",
        "history = model.fit(X_train, y_train, batch_size = 128, epochs = 10, validation_data = (X_test, y_test), verbose = 1)\n",
        "#pred = model.predict(test, batch_size = 1024, verbose = 1)"
      ],
      "execution_count": 76,
      "outputs": [
        {
          "output_type": "stream",
          "name": "stdout",
          "text": [
            "Epoch 1/10\n",
            "83/83 [==============================] - 445s 5s/step - loss: 0.5656 - accuracy: 0.7021 - val_loss: 0.4705 - val_accuracy: 0.7771\n",
            "Epoch 2/10\n",
            "83/83 [==============================] - 424s 5s/step - loss: 0.4401 - accuracy: 0.8028 - val_loss: 0.4201 - val_accuracy: 0.8063\n",
            "Epoch 3/10\n",
            "83/83 [==============================] - 427s 5s/step - loss: 0.4050 - accuracy: 0.8196 - val_loss: 0.3920 - val_accuracy: 0.8230\n",
            "Epoch 4/10\n",
            "83/83 [==============================] - 434s 5s/step - loss: 0.3737 - accuracy: 0.8396 - val_loss: 0.3992 - val_accuracy: 0.8173\n",
            "Epoch 5/10\n",
            "83/83 [==============================] - 441s 5s/step - loss: 0.3409 - accuracy: 0.8573 - val_loss: 0.3650 - val_accuracy: 0.8374\n",
            "Epoch 6/10\n",
            "83/83 [==============================] - 429s 5s/step - loss: 0.3110 - accuracy: 0.8709 - val_loss: 0.3628 - val_accuracy: 0.8378\n",
            "Epoch 7/10\n",
            "83/83 [==============================] - 431s 5s/step - loss: 0.2903 - accuracy: 0.8816 - val_loss: 0.3558 - val_accuracy: 0.8371\n",
            "Epoch 8/10\n",
            "83/83 [==============================] - 432s 5s/step - loss: 0.2724 - accuracy: 0.8906 - val_loss: 0.3420 - val_accuracy: 0.8500\n",
            "Epoch 9/10\n",
            "83/83 [==============================] - 432s 5s/step - loss: 0.2530 - accuracy: 0.9000 - val_loss: 0.3651 - val_accuracy: 0.8511\n",
            "Epoch 10/10\n",
            "83/83 [==============================] - 429s 5s/step - loss: 0.2242 - accuracy: 0.9125 - val_loss: 0.3588 - val_accuracy: 0.8466\n"
          ]
        }
      ]
    },
    {
      "cell_type": "code",
      "metadata": {
        "colab": {
          "base_uri": "https://localhost:8080/"
        },
        "id": "l-n2tHLq7iUc",
        "outputId": "a508470e-7c0f-4568-b08c-60bf94e46584"
      },
      "source": [
        "# Hasil score model \n",
        "score = model.evaluate(X_test, y_test, verbose=1)"
      ],
      "execution_count": 77,
      "outputs": [
        {
          "output_type": "stream",
          "name": "stdout",
          "text": [
            "83/83 [==============================] - 43s 514ms/step - loss: 0.3588 - accuracy: 0.8466\n"
          ]
        }
      ]
    },
    {
      "cell_type": "code",
      "metadata": {
        "colab": {
          "base_uri": "https://localhost:8080/"
        },
        "id": "nlqsdNHLNbVg",
        "outputId": "0cef3951-c9ef-4cd7-b2bf-82a267d6d836"
      },
      "source": [
        "print(\"Test Loss:\", score[0])\n",
        "print(\"Test Accuracy:\", score[1])"
      ],
      "execution_count": 80,
      "outputs": [
        {
          "output_type": "stream",
          "name": "stdout",
          "text": [
            "Test Loss: 0.35884949564933777\n",
            "Test Accuracy: 0.8465628623962402\n"
          ]
        }
      ]
    },
    {
      "cell_type": "code",
      "metadata": {
        "colab": {
          "base_uri": "https://localhost:8080/"
        },
        "id": "uIUwwkyaOGiB",
        "outputId": "c2d0ccf5-f86c-41b5-d783-fce32c19089a"
      },
      "source": [
        "from sklearn.metrics import classification_report\n",
        "num_classes = 2\n",
        "predicted_classes = model.predict(X_test)\n",
        "target_names = [\"Class {}\".format(i) for i in range(num_classes)]\n",
        "print(classification_report(y_test, predicted_classes.round(), target_names=target_names))"
      ],
      "execution_count": 81,
      "outputs": [
        {
          "output_type": "stream",
          "name": "stdout",
          "text": [
            "              precision    recall  f1-score   support\n",
            "\n",
            "     Class 0       0.85      0.81      0.83      1218\n",
            "     Class 1       0.84      0.88      0.86      1415\n",
            "\n",
            "    accuracy                           0.85      2633\n",
            "   macro avg       0.85      0.84      0.85      2633\n",
            "weighted avg       0.85      0.85      0.85      2633\n",
            "\n"
          ]
        }
      ]
    },
    {
      "cell_type": "code",
      "metadata": {
        "colab": {
          "base_uri": "https://localhost:8080/",
          "height": 573
        },
        "id": "hruwzx4LONfq",
        "outputId": "275c63e2-4e79-404d-cd0e-f63ca63fb4ba"
      },
      "source": [
        "import matplotlib.pyplot as plt\n",
        "\n",
        "# Plotting model accuracy dan loss\n",
        "plt.plot(history.history['accuracy'])\n",
        "plt.plot(history.history['val_accuracy'])\n",
        "\n",
        "plt.title('model accuracy')\n",
        "plt.ylabel('accuracy')\n",
        "plt.xlabel('epoch')\n",
        "plt.legend(['train','test'], loc='upper left')\n",
        "plt.show()\n",
        "\n",
        "plt.plot(history.history['loss'])\n",
        "plt.plot(history.history['val_loss'])\n",
        "\n",
        "plt.title('model loss')\n",
        "plt.ylabel('loss')\n",
        "plt.xlabel('epoch')\n",
        "plt.legend(['train','test'], loc='upper left')\n",
        "plt.show()"
      ],
      "execution_count": 82,
      "outputs": [
        {
          "output_type": "display_data",
          "data": {
            "image/png": "[encoded data removed]",
            "text/plain": [
              "<Figure size 432x288 with 1 Axes>"
            ]
          },
          "metadata": {
            "needs_background": "light"
          }
        },
        {
          "output_type": "display_data",
          "data": {
            "image/png": "[encoded data removed]",
            "text/plain": [
              "<Figure size 432x288 with 1 Axes>"
            ]
          },
          "metadata": {
            "needs_background": "light"
          }
        }
      ]
    }
  ]
}