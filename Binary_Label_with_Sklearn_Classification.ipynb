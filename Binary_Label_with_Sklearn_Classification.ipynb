{
  "nbformat": 4,
  "nbformat_minor": 0,
  "metadata": {
    "colab": {
      "name": "Binary Label with Sklearn Classification.ipynb",
      "provenance": [],
      "authorship_tag": "ABX9TyNfCMWSqJxe3bBfcptFHAgj",
      "include_colab_link": true
    },
    "kernelspec": {
      "name": "python3",
      "display_name": "Python 3"
    },
    "language_info": {
      "name": "python"
    }
  },
  "cells": [
    {
      "cell_type": "markdown",
      "metadata": {
        "id": "view-in-github",
        "colab_type": "text"
      },
      "source": [
        "<a href=\"https://colab.research.google.com/github/ZulfaliaPutri/Capstone_WebsiteSentimenTwitter/blob/main/Binary_Label_with_Sklearn_Classification.ipynb\" target=\"_parent\"><img src=\"https://colab.research.google.com/assets/colab-badge.svg\" alt=\"Open In Colab\"/></a>"
      ]
    },
    {
      "cell_type": "markdown",
      "metadata": {
        "id": "Kf1pf7zU_aaN"
      },
      "source": [
        "**Sources :**\n",
        "\n",
        "https://www.megabagus.id/machine-learning-natural-language-processing/3/\n",
        "\n",
        "https://www.kaggle.com/lbronchal/sentiment-analysis-with-svm"
      ]
    },
    {
      "cell_type": "markdown",
      "metadata": {
        "id": "TtpWCCAy-Sau"
      },
      "source": [
        "**Import Library**"
      ]
    },
    {
      "cell_type": "code",
      "metadata": {
        "colab": {
          "base_uri": "https://localhost:8080/"
        },
        "id": "J7e-oLHUpGcI",
        "outputId": "9278ed11-90bb-41c7-9049-fcd09d25ffce"
      },
      "source": [
        "from google.colab import drive\n",
        "import os\n",
        "import pandas as pd\n",
        "import numpy as np\n",
        "import seaborn as sns\n",
        "from sklearn.model_selection import train_test_split, StratifiedKFold, cross_val_score\n",
        "import nltk\n",
        "nltk.download('stopwords')\n",
        "from nltk.tokenize import TweetTokenizer\n",
        "from nltk.corpus import stopwords\n",
        "from sklearn.feature_extraction.text import CountVectorizer, TfidfTransformer\n",
        "from sklearn.metrics import roc_curve, auc\n",
        "from sklearn.metrics import confusion_matrix, roc_auc_score, recall_score, precision_score\n",
        "from sklearn.metrics import make_scorer, accuracy_score, f1_score\n",
        "from sklearn.pipeline import make_pipeline, Pipeline\n",
        "from sklearn.model_selection import GridSearchCV\n",
        "from sklearn.svm import SVC\n",
        "from sklearn.metrics import confusion_matrix"
      ],
      "execution_count": 107,
      "outputs": [
        {
          "output_type": "stream",
          "name": "stdout",
          "text": [
            "[nltk_data] Downloading package stopwords to /root/nltk_data...\n",
            "[nltk_data]   Package stopwords is already up-to-date!\n"
          ]
        }
      ]
    },
    {
      "cell_type": "markdown",
      "metadata": {
        "id": "Pl5lI0rm-ZMd"
      },
      "source": [
        "**Load Data**"
      ]
    },
    {
      "cell_type": "code",
      "metadata": {
        "colab": {
          "base_uri": "https://localhost:8080/"
        },
        "id": "J9KY7Nv8pOyn",
        "outputId": "82f6c0cb-ecda-474a-ffba-d7aee14c8578"
      },
      "source": [
        "drive.mount('/content/gdrive')"
      ],
      "execution_count": 108,
      "outputs": [
        {
          "output_type": "stream",
          "name": "stdout",
          "text": [
            "Drive already mounted at /content/gdrive; to attempt to forcibly remount, call drive.mount(\"/content/gdrive\", force_remount=True).\n"
          ]
        }
      ]
    },
    {
      "cell_type": "code",
      "metadata": {
        "colab": {
          "base_uri": "https://localhost:8080/",
          "height": 206
        },
        "id": "ICGm37VdpPO-",
        "outputId": "dee982fd-c55e-4871-9b7f-9e264aeb03c9"
      },
      "source": [
        "df = pd.read_csv('/content/gdrive/My Drive/Capstone/dataset/data_clean.csv')\n",
        "df.head()"
      ],
      "execution_count": 109,
      "outputs": [
        {
          "output_type": "execute_result",
          "data": {
            "text/html": [
              "<div>\n",
              "<style scoped>\n",
              "    .dataframe tbody tr th:only-of-type {\n",
              "        vertical-align: middle;\n",
              "    }\n",
              "\n",
              "    .dataframe tbody tr th {\n",
              "        vertical-align: top;\n",
              "    }\n",
              "\n",
              "    .dataframe thead th {\n",
              "        text-align: right;\n",
              "    }\n",
              "</style>\n",
              "<table border=\"1\" class=\"dataframe\">\n",
              "  <thead>\n",
              "    <tr style=\"text-align: right;\">\n",
              "      <th></th>\n",
              "      <th>Unnamed: 0</th>\n",
              "      <th>Tweet</th>\n",
              "      <th>HS</th>\n",
              "      <th>Abusive</th>\n",
              "    </tr>\n",
              "  </thead>\n",
              "  <tbody>\n",
              "    <tr>\n",
              "      <th>0</th>\n",
              "      <td>0</td>\n",
              "      <td>cowok usaha lacak perhati gue lantas remeh per...</td>\n",
              "      <td>1</td>\n",
              "      <td>1</td>\n",
              "    </tr>\n",
              "    <tr>\n",
              "      <th>1</th>\n",
              "      <td>1</td>\n",
              "      <td>rt guna guna telat tau edan sarap gue gaul cig...</td>\n",
              "      <td>0</td>\n",
              "      <td>1</td>\n",
              "    </tr>\n",
              "    <tr>\n",
              "      <th>2</th>\n",
              "      <td>2</td>\n",
              "      <td>41 kadang pikir percaya tuhan jatuh kali kali ...</td>\n",
              "      <td>0</td>\n",
              "      <td>0</td>\n",
              "    </tr>\n",
              "    <tr>\n",
              "      <th>3</th>\n",
              "      <td>3</td>\n",
              "      <td>guna guna ku tau mata sipit</td>\n",
              "      <td>0</td>\n",
              "      <td>0</td>\n",
              "    </tr>\n",
              "    <tr>\n",
              "      <th>4</th>\n",
              "      <td>4</td>\n",
              "      <td>guna guna kaum cebong kafir dongok dungu haha</td>\n",
              "      <td>1</td>\n",
              "      <td>1</td>\n",
              "    </tr>\n",
              "  </tbody>\n",
              "</table>\n",
              "</div>"
            ],
            "text/plain": [
              "   Unnamed: 0                                              Tweet  HS  Abusive\n",
              "0           0  cowok usaha lacak perhati gue lantas remeh per...   1        1\n",
              "1           1  rt guna guna telat tau edan sarap gue gaul cig...   0        1\n",
              "2           2  41 kadang pikir percaya tuhan jatuh kali kali ...   0        0\n",
              "3           3                        guna guna ku tau mata sipit   0        0\n",
              "4           4      guna guna kaum cebong kafir dongok dungu haha   1        1"
            ]
          },
          "metadata": {},
          "execution_count": 109
        }
      ]
    },
    {
      "cell_type": "markdown",
      "metadata": {
        "id": "_pzAmlHw-dq0"
      },
      "source": [
        "**Menggabungkan label Hate Speech dan Abusive**"
      ]
    },
    {
      "cell_type": "code",
      "metadata": {
        "colab": {
          "base_uri": "https://localhost:8080/",
          "height": 424
        },
        "id": "58A8Z4f6p5vR",
        "outputId": "3de5af0b-97e3-4cb9-858d-6122ea74cb93"
      },
      "source": [
        "df['HS_Abusive'] = np.where((df['HS'] == 1) | (df['Abusive'] == 1), 1, 0)\n",
        "df"
      ],
      "execution_count": 110,
      "outputs": [
        {
          "output_type": "execute_result",
          "data": {
            "text/html": [
              "<div>\n",
              "<style scoped>\n",
              "    .dataframe tbody tr th:only-of-type {\n",
              "        vertical-align: middle;\n",
              "    }\n",
              "\n",
              "    .dataframe tbody tr th {\n",
              "        vertical-align: top;\n",
              "    }\n",
              "\n",
              "    .dataframe thead th {\n",
              "        text-align: right;\n",
              "    }\n",
              "</style>\n",
              "<table border=\"1\" class=\"dataframe\">\n",
              "  <thead>\n",
              "    <tr style=\"text-align: right;\">\n",
              "      <th></th>\n",
              "      <th>Unnamed: 0</th>\n",
              "      <th>Tweet</th>\n",
              "      <th>HS</th>\n",
              "      <th>Abusive</th>\n",
              "      <th>HS_Abusive</th>\n",
              "    </tr>\n",
              "  </thead>\n",
              "  <tbody>\n",
              "    <tr>\n",
              "      <th>0</th>\n",
              "      <td>0</td>\n",
              "      <td>cowok usaha lacak perhati gue lantas remeh per...</td>\n",
              "      <td>1</td>\n",
              "      <td>1</td>\n",
              "      <td>1</td>\n",
              "    </tr>\n",
              "    <tr>\n",
              "      <th>1</th>\n",
              "      <td>1</td>\n",
              "      <td>rt guna guna telat tau edan sarap gue gaul cig...</td>\n",
              "      <td>0</td>\n",
              "      <td>1</td>\n",
              "      <td>1</td>\n",
              "    </tr>\n",
              "    <tr>\n",
              "      <th>2</th>\n",
              "      <td>2</td>\n",
              "      <td>41 kadang pikir percaya tuhan jatuh kali kali ...</td>\n",
              "      <td>0</td>\n",
              "      <td>0</td>\n",
              "      <td>0</td>\n",
              "    </tr>\n",
              "    <tr>\n",
              "      <th>3</th>\n",
              "      <td>3</td>\n",
              "      <td>guna guna ku tau mata sipit</td>\n",
              "      <td>0</td>\n",
              "      <td>0</td>\n",
              "      <td>0</td>\n",
              "    </tr>\n",
              "    <tr>\n",
              "      <th>4</th>\n",
              "      <td>4</td>\n",
              "      <td>guna guna kaum cebong kafir dongok dungu haha</td>\n",
              "      <td>1</td>\n",
              "      <td>1</td>\n",
              "      <td>1</td>\n",
              "    </tr>\n",
              "    <tr>\n",
              "      <th>...</th>\n",
              "      <td>...</td>\n",
              "      <td>...</td>\n",
              "      <td>...</td>\n",
              "      <td>...</td>\n",
              "      <td>...</td>\n",
              "    </tr>\n",
              "    <tr>\n",
              "      <th>13164</th>\n",
              "      <td>13164</td>\n",
              "      <td>guna bicara ndasmu congor sekata anjing</td>\n",
              "      <td>1</td>\n",
              "      <td>1</td>\n",
              "      <td>1</td>\n",
              "    </tr>\n",
              "    <tr>\n",
              "      <th>13165</th>\n",
              "      <td>13165</td>\n",
              "      <td>guna kasur enak kunyuk</td>\n",
              "      <td>0</td>\n",
              "      <td>1</td>\n",
              "      <td>1</td>\n",
              "    </tr>\n",
              "    <tr>\n",
              "      <th>13166</th>\n",
              "      <td>13166</td>\n",
              "      <td>guna hati hati bisu bosan duh x98</td>\n",
              "      <td>0</td>\n",
              "      <td>0</td>\n",
              "      <td>0</td>\n",
              "    </tr>\n",
              "    <tr>\n",
              "      <th>13167</th>\n",
              "      <td>13167</td>\n",
              "      <td>guna guna guna guna bom real mudah deteksi bom...</td>\n",
              "      <td>0</td>\n",
              "      <td>0</td>\n",
              "      <td>0</td>\n",
              "    </tr>\n",
              "    <tr>\n",
              "      <th>13168</th>\n",
              "      <td>13168</td>\n",
              "      <td>guna situ foto ya kutil onta</td>\n",
              "      <td>1</td>\n",
              "      <td>1</td>\n",
              "      <td>1</td>\n",
              "    </tr>\n",
              "  </tbody>\n",
              "</table>\n",
              "<p>13169 rows × 5 columns</p>\n",
              "</div>"
            ],
            "text/plain": [
              "       Unnamed: 0  ... HS_Abusive\n",
              "0               0  ...          1\n",
              "1               1  ...          1\n",
              "2               2  ...          0\n",
              "3               3  ...          0\n",
              "4               4  ...          1\n",
              "...           ...  ...        ...\n",
              "13164       13164  ...          1\n",
              "13165       13165  ...          1\n",
              "13166       13166  ...          0\n",
              "13167       13167  ...          0\n",
              "13168       13168  ...          1\n",
              "\n",
              "[13169 rows x 5 columns]"
            ]
          },
          "metadata": {},
          "execution_count": 110
        }
      ]
    },
    {
      "cell_type": "markdown",
      "metadata": {
        "id": "XSseqF0l-l09"
      },
      "source": [
        "**Menghapus kolom yang tidak diperlukan**"
      ]
    },
    {
      "cell_type": "code",
      "metadata": {
        "colab": {
          "base_uri": "https://localhost:8080/",
          "height": 424
        },
        "id": "WGJgcbCUpUd6",
        "outputId": "101035af-eac6-4d5c-94c0-d905539e40ff"
      },
      "source": [
        "df = df.drop(columns=[\"Unnamed: 0\",\"HS\",\"Abusive\"])\n",
        "df"
      ],
      "execution_count": 111,
      "outputs": [
        {
          "output_type": "execute_result",
          "data": {
            "text/html": [
              "<div>\n",
              "<style scoped>\n",
              "    .dataframe tbody tr th:only-of-type {\n",
              "        vertical-align: middle;\n",
              "    }\n",
              "\n",
              "    .dataframe tbody tr th {\n",
              "        vertical-align: top;\n",
              "    }\n",
              "\n",
              "    .dataframe thead th {\n",
              "        text-align: right;\n",
              "    }\n",
              "</style>\n",
              "<table border=\"1\" class=\"dataframe\">\n",
              "  <thead>\n",
              "    <tr style=\"text-align: right;\">\n",
              "      <th></th>\n",
              "      <th>Tweet</th>\n",
              "      <th>HS_Abusive</th>\n",
              "    </tr>\n",
              "  </thead>\n",
              "  <tbody>\n",
              "    <tr>\n",
              "      <th>0</th>\n",
              "      <td>cowok usaha lacak perhati gue lantas remeh per...</td>\n",
              "      <td>1</td>\n",
              "    </tr>\n",
              "    <tr>\n",
              "      <th>1</th>\n",
              "      <td>rt guna guna telat tau edan sarap gue gaul cig...</td>\n",
              "      <td>1</td>\n",
              "    </tr>\n",
              "    <tr>\n",
              "      <th>2</th>\n",
              "      <td>41 kadang pikir percaya tuhan jatuh kali kali ...</td>\n",
              "      <td>0</td>\n",
              "    </tr>\n",
              "    <tr>\n",
              "      <th>3</th>\n",
              "      <td>guna guna ku tau mata sipit</td>\n",
              "      <td>0</td>\n",
              "    </tr>\n",
              "    <tr>\n",
              "      <th>4</th>\n",
              "      <td>guna guna kaum cebong kafir dongok dungu haha</td>\n",
              "      <td>1</td>\n",
              "    </tr>\n",
              "    <tr>\n",
              "      <th>...</th>\n",
              "      <td>...</td>\n",
              "      <td>...</td>\n",
              "    </tr>\n",
              "    <tr>\n",
              "      <th>13164</th>\n",
              "      <td>guna bicara ndasmu congor sekata anjing</td>\n",
              "      <td>1</td>\n",
              "    </tr>\n",
              "    <tr>\n",
              "      <th>13165</th>\n",
              "      <td>guna kasur enak kunyuk</td>\n",
              "      <td>1</td>\n",
              "    </tr>\n",
              "    <tr>\n",
              "      <th>13166</th>\n",
              "      <td>guna hati hati bisu bosan duh x98</td>\n",
              "      <td>0</td>\n",
              "    </tr>\n",
              "    <tr>\n",
              "      <th>13167</th>\n",
              "      <td>guna guna guna guna bom real mudah deteksi bom...</td>\n",
              "      <td>0</td>\n",
              "    </tr>\n",
              "    <tr>\n",
              "      <th>13168</th>\n",
              "      <td>guna situ foto ya kutil onta</td>\n",
              "      <td>1</td>\n",
              "    </tr>\n",
              "  </tbody>\n",
              "</table>\n",
              "<p>13169 rows × 2 columns</p>\n",
              "</div>"
            ],
            "text/plain": [
              "                                                   Tweet  HS_Abusive\n",
              "0      cowok usaha lacak perhati gue lantas remeh per...           1\n",
              "1      rt guna guna telat tau edan sarap gue gaul cig...           1\n",
              "2      41 kadang pikir percaya tuhan jatuh kali kali ...           0\n",
              "3                            guna guna ku tau mata sipit           0\n",
              "4          guna guna kaum cebong kafir dongok dungu haha           1\n",
              "...                                                  ...         ...\n",
              "13164            guna bicara ndasmu congor sekata anjing           1\n",
              "13165                             guna kasur enak kunyuk           1\n",
              "13166                  guna hati hati bisu bosan duh x98           0\n",
              "13167  guna guna guna guna bom real mudah deteksi bom...           0\n",
              "13168                       guna situ foto ya kutil onta           1\n",
              "\n",
              "[13169 rows x 2 columns]"
            ]
          },
          "metadata": {},
          "execution_count": 111
        }
      ]
    },
    {
      "cell_type": "code",
      "metadata": {
        "colab": {
          "base_uri": "https://localhost:8080/",
          "height": 297
        },
        "id": "PsEo1mQ99Zln",
        "outputId": "04058d42-165d-43ff-ecff-d0a1d8b540ea"
      },
      "source": [
        "sns.countplot(x='HS_Abusive', data=df)"
      ],
      "execution_count": 112,
      "outputs": [
        {
          "output_type": "execute_result",
          "data": {
            "text/plain": [
              "<matplotlib.axes._subplots.AxesSubplot at 0x7f8d2746dd10>"
            ]
          },
          "metadata": {},
          "execution_count": 112
        },
        {
          "output_type": "display_data",
          "data": {
            "image/png": "[encoded data removed]",
            "text/plain": [
              "<Figure size 432x288 with 1 Axes>"
            ]
          },
          "metadata": {
            "needs_background": "light"
          }
        }
      ]
    },
    {
      "cell_type": "code",
      "metadata": {
        "colab": {
          "base_uri": "https://localhost:8080/"
        },
        "id": "IoSAAFKh9otV",
        "outputId": "67ce923b-4fe8-42ab-eb74-296a66436303"
      },
      "source": [
        "df.isnull().sum()"
      ],
      "execution_count": 113,
      "outputs": [
        {
          "output_type": "execute_result",
          "data": {
            "text/plain": [
              "Tweet         6\n",
              "HS_Abusive    0\n",
              "dtype: int64"
            ]
          },
          "metadata": {},
          "execution_count": 113
        }
      ]
    },
    {
      "cell_type": "markdown",
      "metadata": {
        "id": "PJFFUaNS-r3l"
      },
      "source": [
        "**Menghapus baris yang memiliki nilai null**"
      ]
    },
    {
      "cell_type": "code",
      "metadata": {
        "colab": {
          "base_uri": "https://localhost:8080/",
          "height": 424
        },
        "id": "nzxCqBWM91gG",
        "outputId": "b2499d34-8dc5-4207-afd8-37e80da98e35"
      },
      "source": [
        "df = df.dropna()\n",
        "df"
      ],
      "execution_count": 114,
      "outputs": [
        {
          "output_type": "execute_result",
          "data": {
            "text/html": [
              "<div>\n",
              "<style scoped>\n",
              "    .dataframe tbody tr th:only-of-type {\n",
              "        vertical-align: middle;\n",
              "    }\n",
              "\n",
              "    .dataframe tbody tr th {\n",
              "        vertical-align: top;\n",
              "    }\n",
              "\n",
              "    .dataframe thead th {\n",
              "        text-align: right;\n",
              "    }\n",
              "</style>\n",
              "<table border=\"1\" class=\"dataframe\">\n",
              "  <thead>\n",
              "    <tr style=\"text-align: right;\">\n",
              "      <th></th>\n",
              "      <th>Tweet</th>\n",
              "      <th>HS_Abusive</th>\n",
              "    </tr>\n",
              "  </thead>\n",
              "  <tbody>\n",
              "    <tr>\n",
              "      <th>0</th>\n",
              "      <td>cowok usaha lacak perhati gue lantas remeh per...</td>\n",
              "      <td>1</td>\n",
              "    </tr>\n",
              "    <tr>\n",
              "      <th>1</th>\n",
              "      <td>rt guna guna telat tau edan sarap gue gaul cig...</td>\n",
              "      <td>1</td>\n",
              "    </tr>\n",
              "    <tr>\n",
              "      <th>2</th>\n",
              "      <td>41 kadang pikir percaya tuhan jatuh kali kali ...</td>\n",
              "      <td>0</td>\n",
              "    </tr>\n",
              "    <tr>\n",
              "      <th>3</th>\n",
              "      <td>guna guna ku tau mata sipit</td>\n",
              "      <td>0</td>\n",
              "    </tr>\n",
              "    <tr>\n",
              "      <th>4</th>\n",
              "      <td>guna guna kaum cebong kafir dongok dungu haha</td>\n",
              "      <td>1</td>\n",
              "    </tr>\n",
              "    <tr>\n",
              "      <th>...</th>\n",
              "      <td>...</td>\n",
              "      <td>...</td>\n",
              "    </tr>\n",
              "    <tr>\n",
              "      <th>13164</th>\n",
              "      <td>guna bicara ndasmu congor sekata anjing</td>\n",
              "      <td>1</td>\n",
              "    </tr>\n",
              "    <tr>\n",
              "      <th>13165</th>\n",
              "      <td>guna kasur enak kunyuk</td>\n",
              "      <td>1</td>\n",
              "    </tr>\n",
              "    <tr>\n",
              "      <th>13166</th>\n",
              "      <td>guna hati hati bisu bosan duh x98</td>\n",
              "      <td>0</td>\n",
              "    </tr>\n",
              "    <tr>\n",
              "      <th>13167</th>\n",
              "      <td>guna guna guna guna bom real mudah deteksi bom...</td>\n",
              "      <td>0</td>\n",
              "    </tr>\n",
              "    <tr>\n",
              "      <th>13168</th>\n",
              "      <td>guna situ foto ya kutil onta</td>\n",
              "      <td>1</td>\n",
              "    </tr>\n",
              "  </tbody>\n",
              "</table>\n",
              "<p>13163 rows × 2 columns</p>\n",
              "</div>"
            ],
            "text/plain": [
              "                                                   Tweet  HS_Abusive\n",
              "0      cowok usaha lacak perhati gue lantas remeh per...           1\n",
              "1      rt guna guna telat tau edan sarap gue gaul cig...           1\n",
              "2      41 kadang pikir percaya tuhan jatuh kali kali ...           0\n",
              "3                            guna guna ku tau mata sipit           0\n",
              "4          guna guna kaum cebong kafir dongok dungu haha           1\n",
              "...                                                  ...         ...\n",
              "13164            guna bicara ndasmu congor sekata anjing           1\n",
              "13165                             guna kasur enak kunyuk           1\n",
              "13166                  guna hati hati bisu bosan duh x98           0\n",
              "13167  guna guna guna guna bom real mudah deteksi bom...           0\n",
              "13168                       guna situ foto ya kutil onta           1\n",
              "\n",
              "[13163 rows x 2 columns]"
            ]
          },
          "metadata": {},
          "execution_count": 114
        }
      ]
    },
    {
      "cell_type": "code",
      "metadata": {
        "colab": {
          "base_uri": "https://localhost:8080/"
        },
        "id": "SZ-ohfRQ95dF",
        "outputId": "582a65a0-d460-4dd2-fa7f-21f0107fabaf"
      },
      "source": [
        "df.isnull().sum()"
      ],
      "execution_count": 115,
      "outputs": [
        {
          "output_type": "execute_result",
          "data": {
            "text/plain": [
              "Tweet         0\n",
              "HS_Abusive    0\n",
              "dtype: int64"
            ]
          },
          "metadata": {},
          "execution_count": 115
        }
      ]
    },
    {
      "cell_type": "markdown",
      "metadata": {
        "id": "PZsLr70_-zSc"
      },
      "source": [
        "**Mendefinisikan nilai X dan y**"
      ]
    },
    {
      "cell_type": "code",
      "metadata": {
        "colab": {
          "base_uri": "https://localhost:8080/"
        },
        "id": "2A_e_4fW97MX",
        "outputId": "f7dcdbbd-5569-406a-96dc-c36065759fd2"
      },
      "source": [
        "X = df['Tweet'].values\n",
        "X"
      ],
      "execution_count": 116,
      "outputs": [
        {
          "output_type": "execute_result",
          "data": {
            "text/plain": [
              "array(['cowok usaha lacak perhati gue lantas remeh perhati gue kasih khusus basic cowok bego',\n",
              "       'rt guna guna telat tau edan sarap gue gaul cigax jifla cal licew',\n",
              "       '41 kadang pikir percaya tuhan jatuh kali kali kadang tuhan tinggal orang tua rencana pisah kakak pilih kristen anak ter',\n",
              "       ..., 'guna hati hati bisu bosan duh x98',\n",
              "       'guna guna guna guna bom real mudah deteksi bom kubur dahsyat ledak revolusi jiwa',\n",
              "       'guna situ foto ya kutil onta'], dtype=object)"
            ]
          },
          "metadata": {},
          "execution_count": 116
        }
      ]
    },
    {
      "cell_type": "code",
      "metadata": {
        "id": "DrZlEWIJ-sFZ"
      },
      "source": [
        "def tokenize(text): \n",
        "    tokenizer = TweetTokenizer()\n",
        "    return tokenizer.tokenize(text)\n",
        "\n",
        "def stem(data):\n",
        "    return (stemmer.stem(w) for w in analyzer(data))\n",
        "\n",
        "ind_stopwords = set(stopwords.words(\"indonesian\")) \n",
        "\n",
        "vectorizer = CountVectorizer(\n",
        "    analyzer = 'word',\n",
        "    tokenizer = tokenize,\n",
        "    lowercase = True,\n",
        "    ngram_range=(1, 1),\n",
        "    stop_words = ind_stopwords)"
      ],
      "execution_count": 117,
      "outputs": []
    },
    {
      "cell_type": "code",
      "metadata": {
        "id": "QuCsmdVqi4vA"
      },
      "source": [
        "y = df[\"HS_Abusive\"].values"
      ],
      "execution_count": 118,
      "outputs": []
    },
    {
      "cell_type": "code",
      "metadata": {
        "id": "7oARlaQD-E2Q"
      },
      "source": [
        "X_train, X_test, y_train, y_test = train_test_split(X, y, test_size = 0.20, random_state = 1)"
      ],
      "execution_count": 119,
      "outputs": []
    },
    {
      "cell_type": "markdown",
      "metadata": {
        "id": "LNEOpT_7hv6m"
      },
      "source": [
        "**Modelling with SVC**"
      ]
    },
    {
      "cell_type": "code",
      "metadata": {
        "colab": {
          "base_uri": "https://localhost:8080/"
        },
        "id": "sdKgZJsO_AV8",
        "outputId": "ffe732e5-5c26-4a70-ad33-8233338c3ba2"
      },
      "source": [
        "kfolds = StratifiedKFold(n_splits=5, shuffle=True, random_state=1)\n",
        "np.random.seed(1)\n",
        "\n",
        "pipeline_svm = make_pipeline(vectorizer, \n",
        "                            SVC(probability=True, kernel=\"linear\", class_weight=\"balanced\"))\n",
        "\n",
        "grid_svm = GridSearchCV(pipeline_svm,\n",
        "                    param_grid = {'svc__C': [0.01, 0.1, 1]}, \n",
        "                    cv = kfolds,\n",
        "                    scoring=\"roc_auc\",\n",
        "                    verbose=1,   \n",
        "                    n_jobs=-1) \n",
        "\n",
        "grid_svm.fit(X_train, y_train)\n",
        "grid_svm.score(X_test, y_test)"
      ],
      "execution_count": 120,
      "outputs": [
        {
          "output_type": "stream",
          "name": "stdout",
          "text": [
            "Fitting 5 folds for each of 3 candidates, totalling 15 fits\n"
          ]
        },
        {
          "output_type": "execute_result",
          "data": {
            "text/plain": [
              "0.926492207490114"
            ]
          },
          "metadata": {},
          "execution_count": 120
        }
      ]
    },
    {
      "cell_type": "code",
      "metadata": {
        "colab": {
          "base_uri": "https://localhost:8080/"
        },
        "id": "p4_QzpNZ_nm1",
        "outputId": "592407b8-e3bb-4608-e52a-312aab0bc858"
      },
      "source": [
        "grid_svm.best_params_"
      ],
      "execution_count": 121,
      "outputs": [
        {
          "output_type": "execute_result",
          "data": {
            "text/plain": [
              "{'svc__C': 0.1}"
            ]
          },
          "metadata": {},
          "execution_count": 121
        }
      ]
    },
    {
      "cell_type": "code",
      "metadata": {
        "colab": {
          "base_uri": "https://localhost:8080/"
        },
        "id": "NMYPOBiqBNeQ",
        "outputId": "dc93a193-4d39-4575-a465-d80eb9a3840a"
      },
      "source": [
        "grid_svm.best_score_"
      ],
      "execution_count": 122,
      "outputs": [
        {
          "output_type": "execute_result",
          "data": {
            "text/plain": [
              "0.9277373677354481"
            ]
          },
          "metadata": {},
          "execution_count": 122
        }
      ]
    },
    {
      "cell_type": "code",
      "metadata": {
        "id": "4JHGl4HgBSC6"
      },
      "source": [
        "def report_results(model, X, y):\n",
        "    pred_proba = model.predict_proba(X)[:, 1]\n",
        "    pred = model.predict(X)        \n",
        "\n",
        "    auc = roc_auc_score(y, pred_proba)\n",
        "    acc = accuracy_score(y, pred)\n",
        "    f1 = f1_score(y, pred)\n",
        "    prec = precision_score(y, pred)\n",
        "    rec = recall_score(y, pred)\n",
        "    result = {'auc': auc, 'f1': f1, 'acc': acc, 'precision': prec, 'recall': rec}\n",
        "    return result"
      ],
      "execution_count": 123,
      "outputs": []
    },
    {
      "cell_type": "code",
      "metadata": {
        "colab": {
          "base_uri": "https://localhost:8080/"
        },
        "id": "k2L74DgqBZZu",
        "outputId": "84ada1d3-2b7e-47a5-fead-5176d323450a"
      },
      "source": [
        "report_results(grid_svm.best_estimator_, X_test, y_test)"
      ],
      "execution_count": 124,
      "outputs": [
        {
          "output_type": "execute_result",
          "data": {
            "text/plain": [
              "{'acc': 0.8587162932016711,\n",
              " 'auc': 0.9264951151430565,\n",
              " 'f1': 0.8683651804670913,\n",
              " 'precision': 0.8808327351040919,\n",
              " 'recall': 0.8562456385205862}"
            ]
          },
          "metadata": {},
          "execution_count": 124
        }
      ]
    },
    {
      "cell_type": "markdown",
      "metadata": {
        "id": "sOkfPwMgh1Tw"
      },
      "source": [
        "**Modelling with Logistic Regression**"
      ]
    },
    {
      "cell_type": "code",
      "metadata": {
        "colab": {
          "base_uri": "https://localhost:8080/"
        },
        "id": "fgGlbCg6oKox",
        "outputId": "f653797b-f7d0-4934-8c24-b62073c9c0e1"
      },
      "source": [
        "from sklearn.linear_model import LogisticRegression\n",
        "pipeline_lr = make_pipeline(vectorizer, \n",
        "                            LogisticRegression(random_state = 0))\n",
        "pipeline_lr.fit(X_train, y_train)\n",
        "\n",
        "y_pred_lr = pipeline_lr.predict(X_test) \n",
        "\n",
        "print('Test accuracy is : {}'.format(accuracy_score(y_test, y_pred_lr)))\n",
        "print('Confusion Matrix :')\n",
        "confusionmatrix_lr = confusion_matrix(y_test, y_pred_lr)\n",
        "confusionmatrix_lr"
      ],
      "execution_count": 125,
      "outputs": [
        {
          "output_type": "stream",
          "name": "stdout",
          "text": [
            "Test accuracy is : 0.846942650968477\n",
            "Confusion Matrix :\n"
          ]
        },
        {
          "output_type": "execute_result",
          "data": {
            "text/plain": [
              "array([[ 990,  210],\n",
              "       [ 193, 1240]])"
            ]
          },
          "metadata": {},
          "execution_count": 125
        }
      ]
    },
    {
      "cell_type": "markdown",
      "metadata": {
        "id": "QEVTaD7BpTqd"
      },
      "source": [
        "**Modelling with KNN**"
      ]
    },
    {
      "cell_type": "code",
      "metadata": {
        "colab": {
          "base_uri": "https://localhost:8080/"
        },
        "id": "4aPz6K9vpSWd",
        "outputId": "281de628-c3af-4317-cf44-ef25a3f57ec3"
      },
      "source": [
        "from sklearn.neighbors import KNeighborsClassifier\n",
        "pipeline_knn = make_pipeline(vectorizer, \n",
        "                             KNeighborsClassifier(n_neighbors = 5, metric = 'minkowski', p = 2))\n",
        "pipeline_knn.fit(X_train, y_train)\n",
        "\n",
        "y_pred_knn = pipeline_knn.predict(X_test) \n",
        "\n",
        "print('Test accuracy is : {}'.format(accuracy_score(y_test, y_pred_knn)))\n",
        "print('Confusion Matrix :')\n",
        "confusionmatrix_knn = confusion_matrix(y_test, y_pred_knn)\n",
        "confusionmatrix_knn"
      ],
      "execution_count": 126,
      "outputs": [
        {
          "output_type": "stream",
          "name": "stdout",
          "text": [
            "Test accuracy is : 0.7246486897075579\n",
            "Confusion Matrix :\n"
          ]
        },
        {
          "output_type": "execute_result",
          "data": {
            "text/plain": [
              "array([[ 897,  303],\n",
              "       [ 422, 1011]])"
            ]
          },
          "metadata": {},
          "execution_count": 126
        }
      ]
    },
    {
      "cell_type": "markdown",
      "metadata": {
        "id": "tp7zsc5Oqj8d"
      },
      "source": [
        "**Modelling with Decision Tree**"
      ]
    },
    {
      "cell_type": "code",
      "metadata": {
        "colab": {
          "base_uri": "https://localhost:8080/"
        },
        "id": "uGZzqucTqpNk",
        "outputId": "64e56dd1-e0e8-4bc1-8aae-6a52581e7ecc"
      },
      "source": [
        "from sklearn.tree import DecisionTreeClassifier\n",
        "\n",
        "pipeline_dt = make_pipeline(vectorizer, \n",
        "                            DecisionTreeClassifier(criterion = 'entropy', random_state = 0))\n",
        "pipeline_dt.fit(X_train, y_train)\n",
        "\n",
        "y_pred_dt = pipeline_dt.predict(X_test) \n",
        "\n",
        "print('Test accuracy is : {}'.format(accuracy_score(y_test, y_pred_dt)))\n",
        "print('Confusion Matrix :')\n",
        "confusionmatrix_dt = confusion_matrix(y_test, y_pred_dt)\n",
        "confusionmatrix_dt"
      ],
      "execution_count": 127,
      "outputs": [
        {
          "output_type": "stream",
          "name": "stdout",
          "text": [
            "Test accuracy is : 0.8271933156095709\n",
            "Confusion Matrix :\n"
          ]
        },
        {
          "output_type": "execute_result",
          "data": {
            "text/plain": [
              "array([[ 980,  220],\n",
              "       [ 235, 1198]])"
            ]
          },
          "metadata": {},
          "execution_count": 127
        }
      ]
    },
    {
      "cell_type": "markdown",
      "metadata": {
        "id": "kSiUQ1AFq3i7"
      },
      "source": [
        "**Modelling with Random Forest**"
      ]
    },
    {
      "cell_type": "code",
      "metadata": {
        "colab": {
          "base_uri": "https://localhost:8080/"
        },
        "id": "G3JF0W3-q9Oj",
        "outputId": "14ce4144-48df-4d52-d458-d57eac29a482"
      },
      "source": [
        "# Metode Random Forest\n",
        "from sklearn.ensemble import RandomForestClassifier\n",
        "\n",
        "pipeline_rf = make_pipeline(vectorizer, \n",
        "                            RandomForestClassifier(n_estimators = 500, criterion = 'entropy', random_state = 0))\n",
        "pipeline_rf.fit(X_train, y_train)\n",
        "\n",
        "y_pred_rf = pipeline_rf.predict(X_test) \n",
        "\n",
        "print('Test accuracy is : {}'.format(accuracy_score(y_test, y_pred_rf)))\n",
        "print('Confusion Matrix :')\n",
        "confusionmatrix_rf = confusion_matrix(y_test, y_pred_rf)\n",
        "confusionmatrix_rf"
      ],
      "execution_count": 128,
      "outputs": [
        {
          "output_type": "stream",
          "name": "stdout",
          "text": [
            "Test accuracy is : 0.8628940372199012\n",
            "Confusion Matrix :\n"
          ]
        },
        {
          "output_type": "execute_result",
          "data": {
            "text/plain": [
              "array([[1027,  173],\n",
              "       [ 188, 1245]])"
            ]
          },
          "metadata": {},
          "execution_count": 128
        }
      ]
    }
  ]
}