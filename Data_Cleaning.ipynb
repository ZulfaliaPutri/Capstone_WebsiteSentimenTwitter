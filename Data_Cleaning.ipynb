{
  "nbformat": 4,
  "nbformat_minor": 0,
  "metadata": {
    "colab": {
      "name": "Data Cleaning.ipynb",
      "provenance": [],
      "collapsed_sections": [],
      "authorship_tag": "ABX9TyP7VQ41cvrAIncVgEZFYTwF",
      "include_colab_link": true
    },
    "kernelspec": {
      "name": "python3",
      "display_name": "Python 3"
    },
    "language_info": {
      "name": "python"
    }
  },
  "cells": [
    {
      "cell_type": "markdown",
      "metadata": {
        "id": "view-in-github",
        "colab_type": "text"
      },
      "source": [
        "<a href=\"https://colab.research.google.com/github/ZulfaliaPutri/WeCanNoHate/blob/main/Data_Cleaning.ipynb\" target=\"_parent\"><img src=\"https://colab.research.google.com/assets/colab-badge.svg\" alt=\"Open In Colab\"/></a>"
      ]
    },
    {
      "cell_type": "markdown",
      "metadata": {
        "id": "HwFDze8uLhHZ"
      },
      "source": [
        "# Library"
      ]
    },
    {
      "cell_type": "code",
      "metadata": {
        "colab": {
          "base_uri": "https://localhost:8080/"
        },
        "id": "WGF3FZq0LgLZ",
        "outputId": "7c08ea0d-8e02-43e1-ac9f-b49a4e3f2732"
      },
      "source": [
        "from google.colab import drive\n",
        "import os\n",
        "import pandas as pd\n",
        "\n",
        "import re\n",
        "import string\n",
        "!pip install Sastrawi\n",
        "from Sastrawi.Stemmer.StemmerFactory import StemmerFactory"
      ],
      "execution_count": null,
      "outputs": [
        {
          "output_type": "stream",
          "name": "stdout",
          "text": [
            "Requirement already satisfied: Sastrawi in /usr/local/lib/python3.7/dist-packages (1.0.1)\n"
          ]
        }
      ]
    },
    {
      "cell_type": "markdown",
      "metadata": {
        "id": "w6aZMjsnLYDH"
      },
      "source": [
        "# Data Loading"
      ]
    },
    {
      "cell_type": "code",
      "metadata": {
        "id": "4lOW3mJRKpYN",
        "colab": {
          "base_uri": "https://localhost:8080/"
        },
        "outputId": "1ebf6aa1-0355-41a5-bc66-0948bddb83b3"
      },
      "source": [
        "drive.mount('/content/gdrive')"
      ],
      "execution_count": null,
      "outputs": [
        {
          "output_type": "stream",
          "name": "stdout",
          "text": [
            "Drive already mounted at /content/gdrive; to attempt to forcibly remount, call drive.mount(\"/content/gdrive\", force_remount=True).\n"
          ]
        }
      ]
    },
    {
      "cell_type": "code",
      "metadata": {
        "colab": {
          "base_uri": "https://localhost:8080/"
        },
        "id": "K4U97uYeLbBb",
        "outputId": "9e5c19df-e5b0-4499-e43f-aaf04d9b3ae0"
      },
      "source": [
        "os.listdir('/content/gdrive/My Drive/Capstone/dataset')"
      ],
      "execution_count": null,
      "outputs": [
        {
          "output_type": "execute_result",
          "data": {
            "text/plain": [
              "['stopwordbahasa.csv',\n",
              " 'citation.bib',\n",
              " 'README.md',\n",
              " 'data.csv',\n",
              " 'abusive.csv',\n",
              " 'new_kamusalay.csv',\n",
              " 'data_clean.csv']"
            ]
          },
          "metadata": {},
          "execution_count": 19
        }
      ]
    },
    {
      "cell_type": "code",
      "metadata": {
        "colab": {
          "base_uri": "https://localhost:8080/"
        },
        "id": "FokcUaG1N-nd",
        "outputId": "e938c144-446c-444f-b74f-a39b74adaa71"
      },
      "source": [
        "import chardet\n",
        "file = '/content/gdrive/My Drive/Capstone/dataset/data.csv'\n",
        "with open(file, 'rb') as rawdata:\n",
        "    result = chardet.detect(rawdata.read(100000))\n",
        "result"
      ],
      "execution_count": null,
      "outputs": [
        {
          "output_type": "execute_result",
          "data": {
            "text/plain": [
              "{'confidence': 0.7290065581419461, 'encoding': 'ISO-8859-1', 'language': ''}"
            ]
          },
          "metadata": {},
          "execution_count": 20
        }
      ]
    },
    {
      "cell_type": "code",
      "metadata": {
        "colab": {
          "base_uri": "https://localhost:8080/",
          "height": 293
        },
        "id": "DpWV85H7MCWG",
        "outputId": "b7089567-ea5c-4230-c529-6fcf1a43fca1"
      },
      "source": [
        "df = pd.read_csv(file,encoding='ISO-8859-1')\n",
        "df.head()"
      ],
      "execution_count": null,
      "outputs": [
        {
          "output_type": "execute_result",
          "data": {
            "text/html": [
              "<div>\n",
              "<style scoped>\n",
              "    .dataframe tbody tr th:only-of-type {\n",
              "        vertical-align: middle;\n",
              "    }\n",
              "\n",
              "    .dataframe tbody tr th {\n",
              "        vertical-align: top;\n",
              "    }\n",
              "\n",
              "    .dataframe thead th {\n",
              "        text-align: right;\n",
              "    }\n",
              "</style>\n",
              "<table border=\"1\" class=\"dataframe\">\n",
              "  <thead>\n",
              "    <tr style=\"text-align: right;\">\n",
              "      <th></th>\n",
              "      <th>Tweet</th>\n",
              "      <th>HS</th>\n",
              "      <th>Abusive</th>\n",
              "      <th>HS_Individual</th>\n",
              "      <th>HS_Group</th>\n",
              "      <th>HS_Religion</th>\n",
              "      <th>HS_Race</th>\n",
              "      <th>HS_Physical</th>\n",
              "      <th>HS_Gender</th>\n",
              "      <th>HS_Other</th>\n",
              "      <th>HS_Weak</th>\n",
              "      <th>HS_Moderate</th>\n",
              "      <th>HS_Strong</th>\n",
              "    </tr>\n",
              "  </thead>\n",
              "  <tbody>\n",
              "    <tr>\n",
              "      <th>0</th>\n",
              "      <td>- disaat semua cowok berusaha melacak perhatia...</td>\n",
              "      <td>1</td>\n",
              "      <td>1</td>\n",
              "      <td>1</td>\n",
              "      <td>0</td>\n",
              "      <td>0</td>\n",
              "      <td>0</td>\n",
              "      <td>0</td>\n",
              "      <td>0</td>\n",
              "      <td>1</td>\n",
              "      <td>1</td>\n",
              "      <td>0</td>\n",
              "      <td>0</td>\n",
              "    </tr>\n",
              "    <tr>\n",
              "      <th>1</th>\n",
              "      <td>RT USER: USER siapa yang telat ngasih tau elu?...</td>\n",
              "      <td>0</td>\n",
              "      <td>1</td>\n",
              "      <td>0</td>\n",
              "      <td>0</td>\n",
              "      <td>0</td>\n",
              "      <td>0</td>\n",
              "      <td>0</td>\n",
              "      <td>0</td>\n",
              "      <td>0</td>\n",
              "      <td>0</td>\n",
              "      <td>0</td>\n",
              "      <td>0</td>\n",
              "    </tr>\n",
              "    <tr>\n",
              "      <th>2</th>\n",
              "      <td>41. Kadang aku berfikir, kenapa aku tetap perc...</td>\n",
              "      <td>0</td>\n",
              "      <td>0</td>\n",
              "      <td>0</td>\n",
              "      <td>0</td>\n",
              "      <td>0</td>\n",
              "      <td>0</td>\n",
              "      <td>0</td>\n",
              "      <td>0</td>\n",
              "      <td>0</td>\n",
              "      <td>0</td>\n",
              "      <td>0</td>\n",
              "      <td>0</td>\n",
              "    </tr>\n",
              "    <tr>\n",
              "      <th>3</th>\n",
              "      <td>USER USER AKU ITU AKU\\n\\nKU TAU MATAMU SIPIT T...</td>\n",
              "      <td>0</td>\n",
              "      <td>0</td>\n",
              "      <td>0</td>\n",
              "      <td>0</td>\n",
              "      <td>0</td>\n",
              "      <td>0</td>\n",
              "      <td>0</td>\n",
              "      <td>0</td>\n",
              "      <td>0</td>\n",
              "      <td>0</td>\n",
              "      <td>0</td>\n",
              "      <td>0</td>\n",
              "    </tr>\n",
              "    <tr>\n",
              "      <th>4</th>\n",
              "      <td>USER USER Kaum cebong kapir udah keliatan dong...</td>\n",
              "      <td>1</td>\n",
              "      <td>1</td>\n",
              "      <td>0</td>\n",
              "      <td>1</td>\n",
              "      <td>1</td>\n",
              "      <td>0</td>\n",
              "      <td>0</td>\n",
              "      <td>0</td>\n",
              "      <td>0</td>\n",
              "      <td>0</td>\n",
              "      <td>1</td>\n",
              "      <td>0</td>\n",
              "    </tr>\n",
              "  </tbody>\n",
              "</table>\n",
              "</div>"
            ],
            "text/plain": [
              "                                               Tweet  ...  HS_Strong\n",
              "0  - disaat semua cowok berusaha melacak perhatia...  ...          0\n",
              "1  RT USER: USER siapa yang telat ngasih tau elu?...  ...          0\n",
              "2  41. Kadang aku berfikir, kenapa aku tetap perc...  ...          0\n",
              "3  USER USER AKU ITU AKU\\n\\nKU TAU MATAMU SIPIT T...  ...          0\n",
              "4  USER USER Kaum cebong kapir udah keliatan dong...  ...          0\n",
              "\n",
              "[5 rows x 13 columns]"
            ]
          },
          "metadata": {},
          "execution_count": 21
        }
      ]
    },
    {
      "cell_type": "code",
      "metadata": {
        "colab": {
          "base_uri": "https://localhost:8080/",
          "height": 424
        },
        "id": "KpT6KND9OWcs",
        "outputId": "a90a16d7-861e-44e7-9422-f80c9b1c32e1"
      },
      "source": [
        "replace_dict = pd.read_csv(\"/content/gdrive/My Drive/Capstone/dataset/new_kamusalay.csv\", encoding = 'latin-1', header=None)\n",
        "replace_dict = replace_dict.rename(columns=  {0: 'original', 1: 'replacement'})\n",
        "replace_dict"
      ],
      "execution_count": null,
      "outputs": [
        {
          "output_type": "execute_result",
          "data": {
            "text/html": [
              "<div>\n",
              "<style scoped>\n",
              "    .dataframe tbody tr th:only-of-type {\n",
              "        vertical-align: middle;\n",
              "    }\n",
              "\n",
              "    .dataframe tbody tr th {\n",
              "        vertical-align: top;\n",
              "    }\n",
              "\n",
              "    .dataframe thead th {\n",
              "        text-align: right;\n",
              "    }\n",
              "</style>\n",
              "<table border=\"1\" class=\"dataframe\">\n",
              "  <thead>\n",
              "    <tr style=\"text-align: right;\">\n",
              "      <th></th>\n",
              "      <th>original</th>\n",
              "      <th>replacement</th>\n",
              "    </tr>\n",
              "  </thead>\n",
              "  <tbody>\n",
              "    <tr>\n",
              "      <th>0</th>\n",
              "      <td>anakjakartaasikasik</td>\n",
              "      <td>anak jakarta asyik asyik</td>\n",
              "    </tr>\n",
              "    <tr>\n",
              "      <th>1</th>\n",
              "      <td>pakcikdahtua</td>\n",
              "      <td>pak cik sudah tua</td>\n",
              "    </tr>\n",
              "    <tr>\n",
              "      <th>2</th>\n",
              "      <td>pakcikmudalagi</td>\n",
              "      <td>pak cik muda lagi</td>\n",
              "    </tr>\n",
              "    <tr>\n",
              "      <th>3</th>\n",
              "      <td>t3tapjokowi</td>\n",
              "      <td>tetap jokowi</td>\n",
              "    </tr>\n",
              "    <tr>\n",
              "      <th>4</th>\n",
              "      <td>3x</td>\n",
              "      <td>tiga kali</td>\n",
              "    </tr>\n",
              "    <tr>\n",
              "      <th>...</th>\n",
              "      <td>...</td>\n",
              "      <td>...</td>\n",
              "    </tr>\n",
              "    <tr>\n",
              "      <th>15162</th>\n",
              "      <td>mendikbud</td>\n",
              "      <td>menteri pendidikan dan kebudayaan</td>\n",
              "    </tr>\n",
              "    <tr>\n",
              "      <th>15163</th>\n",
              "      <td>mendag</td>\n",
              "      <td>menteri perdagangan</td>\n",
              "    </tr>\n",
              "    <tr>\n",
              "      <th>15164</th>\n",
              "      <td>menaker</td>\n",
              "      <td>menteri tenaga kerja</td>\n",
              "    </tr>\n",
              "    <tr>\n",
              "      <th>15165</th>\n",
              "      <td>memetwit</td>\n",
              "      <td>mentwit</td>\n",
              "    </tr>\n",
              "    <tr>\n",
              "      <th>15166</th>\n",
              "      <td>megangin</td>\n",
              "      <td>memegang</td>\n",
              "    </tr>\n",
              "  </tbody>\n",
              "</table>\n",
              "<p>15167 rows × 2 columns</p>\n",
              "</div>"
            ],
            "text/plain": [
              "                  original                        replacement\n",
              "0      anakjakartaasikasik           anak jakarta asyik asyik\n",
              "1             pakcikdahtua                  pak cik sudah tua\n",
              "2           pakcikmudalagi                  pak cik muda lagi\n",
              "3              t3tapjokowi                       tetap jokowi\n",
              "4                       3x                          tiga kali\n",
              "...                    ...                                ...\n",
              "15162            mendikbud  menteri pendidikan dan kebudayaan\n",
              "15163               mendag                menteri perdagangan\n",
              "15164              menaker               menteri tenaga kerja\n",
              "15165             memetwit                            mentwit\n",
              "15166             megangin                           memegang\n",
              "\n",
              "[15167 rows x 2 columns]"
            ]
          },
          "metadata": {},
          "execution_count": 22
        }
      ]
    },
    {
      "cell_type": "code",
      "metadata": {
        "colab": {
          "base_uri": "https://localhost:8080/",
          "height": 424
        },
        "id": "F68q1WtAZPQO",
        "outputId": "a7f77662-d95f-4c6c-81b9-34b555d598d7"
      },
      "source": [
        "stopwords = pd.read_csv(\"/content/gdrive/My Drive/Capstone/dataset/stopwordbahasa.csv\", header=None)\n",
        "stopwords = stopwords.rename(columns={0: 'stopword'})\n",
        "stopwords"
      ],
      "execution_count": null,
      "outputs": [
        {
          "output_type": "execute_result",
          "data": {
            "text/html": [
              "<div>\n",
              "<style scoped>\n",
              "    .dataframe tbody tr th:only-of-type {\n",
              "        vertical-align: middle;\n",
              "    }\n",
              "\n",
              "    .dataframe tbody tr th {\n",
              "        vertical-align: top;\n",
              "    }\n",
              "\n",
              "    .dataframe thead th {\n",
              "        text-align: right;\n",
              "    }\n",
              "</style>\n",
              "<table border=\"1\" class=\"dataframe\">\n",
              "  <thead>\n",
              "    <tr style=\"text-align: right;\">\n",
              "      <th></th>\n",
              "      <th>stopword</th>\n",
              "    </tr>\n",
              "  </thead>\n",
              "  <tbody>\n",
              "    <tr>\n",
              "      <th>0</th>\n",
              "      <td>ada</td>\n",
              "    </tr>\n",
              "    <tr>\n",
              "      <th>1</th>\n",
              "      <td>adalah</td>\n",
              "    </tr>\n",
              "    <tr>\n",
              "      <th>2</th>\n",
              "      <td>adanya</td>\n",
              "    </tr>\n",
              "    <tr>\n",
              "      <th>3</th>\n",
              "      <td>adapun</td>\n",
              "    </tr>\n",
              "    <tr>\n",
              "      <th>4</th>\n",
              "      <td>agak</td>\n",
              "    </tr>\n",
              "    <tr>\n",
              "      <th>...</th>\n",
              "      <td>...</td>\n",
              "    </tr>\n",
              "    <tr>\n",
              "      <th>753</th>\n",
              "      <td>wong</td>\n",
              "    </tr>\n",
              "    <tr>\n",
              "      <th>754</th>\n",
              "      <td>yaitu</td>\n",
              "    </tr>\n",
              "    <tr>\n",
              "      <th>755</th>\n",
              "      <td>yakin</td>\n",
              "    </tr>\n",
              "    <tr>\n",
              "      <th>756</th>\n",
              "      <td>yakni</td>\n",
              "    </tr>\n",
              "    <tr>\n",
              "      <th>757</th>\n",
              "      <td>yang</td>\n",
              "    </tr>\n",
              "  </tbody>\n",
              "</table>\n",
              "<p>758 rows × 1 columns</p>\n",
              "</div>"
            ],
            "text/plain": [
              "    stopword\n",
              "0        ada\n",
              "1     adalah\n",
              "2     adanya\n",
              "3     adapun\n",
              "4       agak\n",
              "..       ...\n",
              "753     wong\n",
              "754    yaitu\n",
              "755    yakin\n",
              "756    yakni\n",
              "757     yang\n",
              "\n",
              "[758 rows x 1 columns]"
            ]
          },
          "metadata": {},
          "execution_count": 23
        }
      ]
    },
    {
      "cell_type": "code",
      "metadata": {
        "id": "EnhX3B7jtkqx"
      },
      "source": [
        "# Replacement dictionary baru\n",
        "replace_dict_new = {\n",
        " 'xb2nya':'nya','x99juj':'juj','x9cmonyet':'monyet','x9ctidak':'tidak','x9ckalau':'kalau','x9cmaju':'maju','x9cada':'ada','x9clagi':'lagi','x9canti':'anti',\n",
        " 'x9cyang':'yang','x9cdeep':'deep','x9ckami':'kami','x9cbom':'bom','x9cluka':'luka','x9ccacat':'cacat','x9cbossku':'bossku','x8dmenyokong':'menyokong',\n",
        " 'x94terang':'terang','nkl':'kalau','nhn':'nahan','x98maju':'maju','x9doh':'oh','x9dpara':'para','x9ctiap':'tiap','x80udah':'udah','x8fbukan':'bukan',\n",
        " 'x9cpemainnya':'pemainnya','x9cbelum':'belum','x98naik':'naik','x9ckamu':'kamu','x9cbapak':'bapak','x97preloved':'preloved','x9cya':'ya','x9cheh':'heh',\n",
        " 'xa0polisi':'polisi','2009dan':'2009 dan','x9cfree':'free','x99uzubillahi':'nauzubillah','x89memberikan':'memberikan','x98ashpun':'pun','kehed':'sialan',\n",
        " 'xa0shallallahu':'shallallahu','x98alaihi':'alaihi','xa0membeli':'membeli','xa4matanya':'matanya','x9cdaripada':'daripada','x9cmari':'mari','x9cgue':'gue',\n",
        " 'x8fsorry':'sorry','x9cshalat':'sholat','x8dyg':'yang','x9cmeeting':'meeting','x9coh':'oh','x9casu':'asu','x9ckntl':'kontol','x9cbgst':'bangsat',\n",
        " 'x9celok':'elok','x9crumpon':'rumpun','x9ddan':'dan','xa5ada':'ada','x9cseperti':'seperti','xb2lah':'lah','x92congor':'congor','x9ckakap':'kakap',\n",
        " 'x9ctdk':'tidak','x9cbaiklah':'baiklah','x9chamil':'hamil','xa4bagian':'bagian','x80sebuah':'sebuah','x9ckepada':'kepada','x9cdipengaruhi':'dipengaruhi',\n",
        " 'militeran':'militer','dicrotin':'crot','bebencongan':'bencong','mengeyel':'ngeyel','kampreter':'kampret','congoran':'bibir','dendaman':'dendam',\n",
        " 'udeeeh':'udah','goblokan':'goblok','cadaran':'cadar','takaburnya':'takabur','nbut':'tapi','nusantarakan':'nusantara','dinusantarakan':'nusantara',\n",
        " 'begoin':'bodoh','menyolot':'nyolot','cebonger':'cebong','memuter':'putar','mengonter':'konter','mengeprek':'geprek','didungukan':'dungu','congornya':'congor',\n",
        " 'asuuuu':'asu','jujungannya':'junjungan','hauz':'haus','crottttt':'crot','hucu':'konghucu','gantle':'jentelmen','mencemplung':'nyemplung','meleteh':'sombong',\n",
        " 'chaaaaarrrmmmm':'charm','anjirittt':'anjrit','siaaaaallllllll':'sial','benciiiiiiiiiiiiiiiiiiiii':'benci','jahaaaaaaaaaaatttttttt':'jahat','goblokkkk':'goblok',\n",
        " 'gobloooooooo':'goblok','maksudnyaaa':'maksudnya','gubernurku':'gubernur ku','sukanyaaaa':'sukanya','mampuuuusssssss':'mampus','taekkk':'tai','ribuuut':'ribut',\n",
        " 'taiiiii':'tai','bangsaaaaaaaatttt':'bangsat','habiisssss':'habis','cangkemmu':'mulut kamu','ngebacotnya':'bacot','berjemaahnya':'jamaah','kalyaaann':'kalian',\n",
        " 'ngakakkk':'ngakak','laaaahhhhh':'lah','sialll':'sial','tekannnn':'tekan','mikiiiir':'mikir','kerad':'keras','bangsaaat':'bangsat','cihhh':'cih',\n",
        " 'anjinggg':'anjing','anjingkan':'anjing','anjiiirr':'anjing','anjeeeeng':'anjing','jorokkan':'jorok','nmantapkan':'mantap','stresssssss':'stres',\n",
        " 'mursidah':'murah','tertilap':'tilap','memebrantas':'memberantas','kepick':'ke ambil','kemako':'ke mako','raupkan':'raup','woooooii':'woi','gabutnya':'gabut',\n",
        " 'sesembak':'mbak','ngacooo':'kacau','dibacoti':'bacot','tulalittttt':'tulalit','anjr':'anjing','dipemeriksaan':'periksa','mengkampretkan':'kampret',\n",
        " 'mencebongkan':'cebong','nabuuunggg':'nabung','charutin':'carutin','mengibulnya':'bohong','anjingggg':'anjing','baliiik':'balik','aplikasinyya':'aplikasi',\n",
        " 'congean':'congek','kaaaaau':'kau','bercandai':'bercanda','debarmu':'debar kamu','kontolan':'kontol','tololisme':'tolol','ngedunguin':'dungu','plokis':'polisi',\n",
        " 'ohannya':'kebodohannya','sajahhhhh':'saja','diketapang':'ketapang','ilahmu':'tuhan kamu','moderatuser':'moderat','kencingpun':'kencing','dibundari':'bundar',\n",
        " 'baperki':'baper','berengseknya':'berengsek','bangkrutkan':'bangkrut','syukaaa':'suka','cocotmu':'mulut kamu','mengodei':'kode','rebuplika':'republik',\n",
        " 'buteknya':'butek','sesigap':'sigap','sajauser':'saja','lewatuser':'lewat','puret':'mengecil','siuser':'si','naikpun':'naik pun','botaki':'botak',\n",
        " 'nyimengnya':'nyimeng','temenannn':'teman','omongmu':'omongan kamu','kristenpun':'kristen','nyelew':'nyeleneh','kuntinya':'kuntilanak','dimampuskan':'mampus',\n",
        " 'gilasih':'gila','bikinian':'bikini','kencrot':'kerdus','kabuuurr':'kabur','gmnin':'gimana','bangsulll':'bangsat','anjirrrrr':'anjing','dungukan':'dungu',\n",
        " 'biadabkan':'biadab','mejelekkan':'jelek','taekkkkkk':'tai','kamfrettt':'kampret','congormu':'mulut kamu','nbenciiiiiiiii':'benci','dibercandai':'bercanda',\n",
        " 'akurrr':'akur','cobaaak':'coba','luuuu':'kamu','mengaartikan':'mengartikan','asuuuuu':'asu','kintil':'kontol','mulussss':'mulus','sekotornya':'kotor',\n",
        " 'laperrrr':'lapar','dicalonpresidenkan':'calon presiden','junjugannya':'junjungan','dilapakmu':'lapak','tololin':'tolol','bencoooooooonnnnnnggggg':'bencong',\n",
        " 'menusantarakan':'nusantara','jahanammmmm':'jahanam','warrrbisah':'luar biasa','sialaaan':'sialan','ngatainnya':'mengejek','perempuannn':'perempuan', \n",
        " 'belaganya':'belagu','mantaaapppp':'mantap','mantappppppppp':'mantap','cacinglah':'cacing','kadarmu':'kadar kamu','shopeenya':'shopee','ngantukkk':'ngantuk',\n",
        " 'ekononmi':'ekonomi','kenapaaaa':'kenapa','nkarenaaaaaaa':'karena','beloonnya':'bodoh','xb3lah':'sebelah','basiiii':'basi','penyengsara':'sengsara',\n",
        " 'sotooooy':'sok tau','brngsekkkk':'berengsek','cemeeh':'cemooh','dingajikan':'ngaji','nalarpun':'nalar pun','edannnn':'edan','seperintah':'perintah',\n",
        " 'dasaaaar':'dasar','makamya':'makanya','sadizzz':'sadis','siyaaaaap':'siap','hasutanmu':'hasutan kamu','asekkk':'asik','dijeritkan':'jerit','ngelonte':'lonte',\n",
        " 'memfiktifkan':'fiktif','awaasss':'awas','yyynng':'yang','dustakaaan':'dusta','lagiiiiiiii':'lagi','finallyyyy':'akhirnya','melipiirrrr':'melipir',\n",
        " 'kseeeel':'kesal','bayiiiik':'bayi','mengomongnya':'ngomong','mendungukan':'dungu','membiadabkan':'biadab'\n",
        "}"
      ],
      "execution_count": null,
      "outputs": []
    },
    {
      "cell_type": "code",
      "metadata": {
        "id": "H3JstXFNqUfN"
      },
      "source": [
        "#Dihapus\n",
        "stopwords_new = ['xf0','x9f','xe2','xa6','xa4','x91','xad','x9d','xa3','x85','xc2','x8f','x8d','xe3','x8c','xb2','x9c','x8e','x8a','md3','x83','xa1','xb8',\n",
        " 'x90','xaa','xa0dll','27juni','31902573','31902583','0510541000096745','05058020145124','x99raf','x8fpsk','nkk','n88','n89','n28','n99','sb2018','rp5',\n",
        " 'xa2','xef','xa9','xac','x9a','xa5','xba','xb6','xa7','x97','x95','xab','x8b','xb4','xbb','xc3','xaf','xb7','xcd','xbd','xb0','xae','xd9','xb5','xa0',\n",
        " 'xa8','xe0','x9e','xce','xbe','xd8','x87','xb1','xb9','xe5','xbf','md2','xca','xcc','xb3','md1','n4d','xe1','x9b','jkfc23456789','xe8','n2d','n21','n36',\n",
        " 'xa8e','70r','x82g','x9clu','xa8rene','nuser','nurl','05a','rp70','4000t','n2d86','n3d965','ncm31','nbbfs7','xxxd','99woojinn','x94gi','x9caza','x9cngh',\n",
        " 'xadcy','x99ol','288c','108th2017','bxb','b1rhevkrxl','rm421','dxidq4zqhv','rtuser','56969066','n2019','x89user','6281294490616','xa4arra','x82rt',\n",
        " 'xb9tomohon','x9choi','rp30rb','xb2i','rp75','rp2','n2011','ud83d','adem86','98heru','msnakdnskdnskdndjfn',\n",
        "  #Nama orang atau barang gedung\n",
        " 'saracen','gerung','aher','pranowo','tju','moeldoko','sylvi','meikarta','yoyakarta','dardak','kivlan','majdi','hyunjin','kholilurrahman','lilur','mardani',\n",
        " 'soesatyo','rakercabsu','csis','soemitro','rawita','newmont','ijeck','jokower','tayib','zinnirah','taeyong','milea','ekajati','jamiat', 'arseto','lovren',\n",
        " 'lucinta','staquf','fauziyah','layanto','mixagrip','himmler','tugimin','v2grcuesti','deact','chirpified','ngabalin','x98',\n",
        "  #Hapus\n",
        " 'sungjin','dowoon','iori','nkr','mbappe','tsamara','charliyan','suparji','janab','useruser','auti','muzadi','rpgpedia','subki','bughury','rohidin','mersyah',\n",
        " 'cholil','woozi','edvina','kahiyang','noureddine','boutayeb','milangasri','tahija','syaithanir','rajimi','nurliyana','aliano','youngji','rlt','blayer',\n",
        " 'widiana','nomleni','11april','liedabin','lobusiregar','helman','hotman','seungmin','hsca','maktum','damenra','hutanagodang','kiun','eloah','mawati',\n",
        " 'titot','iq200','unhi','tanos','danilla','yixing','makhmud','saggaf','trimedya','widjanarko','wagirin','balongtani','hadisurya','panekan','panggreh','lhi',\n",
        " '082316861194','d2907677','parawansa','kalabong','takiyuddin','choong','ngooaaahahaaa','wusssstt','muliati','lindra','barom','glusar','setambak','haiz',\n",
        "  #Hapus\n",
        " 'coel','aaaaaaaaa','paramabudaya','sisternet','xon','kajox','9y4hiwhjp2','xinwen','sinamata','demina','ajsjsjsjaja','katotoloyo','wkwkwkwkkkk','markli',\n",
        " 'vqh0tnxarz','pnegdjmpch','tats','nzzzeeezzzzsssttt','nse','nurmantyo','masonluk','junev','jendeuk','jungyeon','laeli','yamaken','jucan','mukshin','neeekkk',\n",
        " 'armidya','afifih','eeeeeeee','wiwo','yosy','anises','hishammuddin','kassim','yeeeuh','hadoiii','sobsssss','kefar','adumim','kedurus','nojo','dgk',\n",
        " '100subcribe','talal','xbbparpol','bazl','majhud','askmf','nwedeeeh','jipepet','caileh','ohooo','nhtt','busquets','periodontik','barzan','apollinaris','gmezpoylsy',\n",
        " 'uuunncchh','gunggg','hongdae','gidle','sopoi','jiaaahh','mijoo','ggggg','josssssssslah','oojinprk','nparjin','delulu','ipro','cuihhhh','lollll','kylaaaaaaya',\n",
        " 'robbihimul','jddnjdjdej','adrp','ruzhanul','goeun','hikdun','soemantri','woooui',\n",
        "  #Hapus\n",
        " 'glusur','bigflo','inshaaallah','sugik','iyuuuh','yanyk','huuuft','frido','prawinegara','ftse','selusup','jaemin','adhkslapwje','hpup','widang','canolly',\n",
        " '180973692324','zumiiiii','pbg','bfjgfdg','woyyyy','cukkkkk','nrj','nixon','ltte','memal','apakkk','momoland','hakuri','goblen','wuornos','dandhy','renjun',\n",
        " 'hoooy','jaehyun','menggusel','sorbejeh','oratornnya','mbikoz','millport','rochadi','ledig','keboguyang','khaththath','sofiya','berambu','ngoaaahahaaaaa',\n",
        " 'ngejb','kajakkk','dharmawijaya','mantramengisi','lynde','mbue','jeyepe','sudarto','fuyyyyyoooo','mindfuck','karakai','jozu','takagi','nardhi','asyahaab',\n",
        " 'undeeestimate','mangkrakan','oiyaaa','ppbm','kantoikan','aaaamiiiiiiinnnn','hoook','ekgy','jinkiw','jandro','erudite','getunan','pledis','owaisi','jungwoo',\n",
        " 'duuhhhh','gustiiiiiiiiiiiiiiii','failosof','mollien','rewatching','noragami','umnobn','driyono','husler','simpurusiang','ngupiii','ngardus','xari',\n",
        " 'ngeooaahahahaaaaa','junros','barzagli','cisol','jauser','temer','diberangusss','kafin','ngerojok','aiptu','hanat','nhoalaaah','adohhh','ahoknya','thorig',\n",
        "  #Hapus\n",
        " 'nogt','netz','mifthakul','iqna','parisudha','hartarto','adiwastra','memframing','cebi','vavang','bwsdn','sosrokartono','pelemkerep','hyura','sudono','sioe',\n",
        " 'semprulllll','humanit','pck','paingan','kocu','jelus','somatologi','belekok','maranata','adid','medcom','disinisi','chulan','menelponi','tuth','caenliana',\n",
        " 'albayrak','wiranti','andinia','sempro','boneknya','manggutkan','baghawi','goblinnya','diframing','divya','rusdiana','handmaiden','greenteaaaaa','nsssst',\n",
        " 'bainanal','edna','stakn','jief','ongseng','kuyaaaaaaaaaaaaa','inkonsistennya','allahummaghfirli','zanbi','ajirni','ckarisha','kaisoo','hunhan','fnxqi',\n",
        " 'petar','hearthstone','kintin','yoksi','tofa','bediuzzaman','mengoroknya','beroikumene','serusuh','eeyewwww','kacaoooooo','apakabsss','gogobli','laotze',\n",
        " 'junj','tagonis','sarumpaet','hanzola','hmmmmz','amblek','wiwerda','raphael','maitimo','diniaga','jaewon','raesung','elistianto','soeharsono','sebianto',\n",
        " 'huewwwww','muanas','lopa','mensiv','uhuwww','gubya','mwaaaa','nmmm','kotbur','inkonsistensimu','suliddddd','kyulkyung','mignolet','mandangkan','fussilat',\n",
        " 'kingka','zefanya','parmusi','artidjo','kth','jjk','mqm','rehnuma','shehzad','douran','arze','mubtila','slewah','ciletuh','ngesaltyin','kamori','gorbachev',\n",
        " 'menyetreaming','kurayyim','nazmi','nyeee','dibarus','tebellah','jatey','ayashiya','gharq','sirf','nafrat','intizhar','neopki','hetifah','alquranku',\n",
        " 'mencamil','munaspil','jisun','cecyl','junhui','jihun','kaab','akimichi','maungdaw','juwaini','ngeeooahahahaaaaaaa','ngileeee','hasselhoff',\n",
        " 'kaaaaaa','patrialis','lilyana','niklan','stalked','diginesia','puspayoga','tangklukan','segeulgie','dikeci','ompuan','sikpande','asalll','hardiana','kazhar',\n",
        " 'owwwwh','mansoura','jotef','jogernya','dongokkan','puteeeh','oped','jalema','ngej','cenong','isb','mempannya','auzubillah','jafarudin','attaka','c1a',\n",
        " 'makase','palti','ardhog','bersudi','lekno','katamsi','tienteuus','ikko','oyes','cuteness','kedungcangkring','pigai','levai',\n",
        " 'miiinn','soedurisme','tlembuk','dulatips','slutsharming','iparan','exsisting','hazrumy','perrault','kobayakawa','mathilda','mowaa','mubalignya','shaloom',\n",
        " 'maftukhin','jebi','rruarrr','okn','dunga','kapuji','majdub','draxe','jci','qardhawi','kuduuu','pasrahhh','cpd','puhliiiis','newsidn',\n",
        " 'koloe','yasuko','akom','ettt','ipey','bodyshaming','denkuzul','oum','dihhh','eaakkk','ellooo','setarbak','qadiani','lebuk','butah','utututut',\n",
        " 'deutchbank','soign','wooseok','handrini','suprana','devor','mingmukedaisi','vamsam','arturia','shooky','marwanto','junhoe','assalamualaykum','waaaaaw',\n",
        " 'sophiaan','efilnikcufecin','nwahhh','zedong','shaoqi','taipannya','sampaoli','shummun','ngehype','armeries','pelosika','chenle','hifzil']"
      ],
      "execution_count": null,
      "outputs": []
    },
    {
      "cell_type": "code",
      "metadata": {
        "colab": {
          "base_uri": "https://localhost:8080/",
          "height": 206
        },
        "id": "RDe7UwkOufrk",
        "outputId": "25f42b88-48be-411d-9a24-834aea652b94"
      },
      "source": [
        "stopwords_new = pd.DataFrame(stopwords_new)\n",
        "stopwords_new = stopwords_new.rename(columns={0: 'stopword'})\n",
        "stopwords_new.head()"
      ],
      "execution_count": null,
      "outputs": [
        {
          "output_type": "execute_result",
          "data": {
            "text/html": [
              "<div>\n",
              "<style scoped>\n",
              "    .dataframe tbody tr th:only-of-type {\n",
              "        vertical-align: middle;\n",
              "    }\n",
              "\n",
              "    .dataframe tbody tr th {\n",
              "        vertical-align: top;\n",
              "    }\n",
              "\n",
              "    .dataframe thead th {\n",
              "        text-align: right;\n",
              "    }\n",
              "</style>\n",
              "<table border=\"1\" class=\"dataframe\">\n",
              "  <thead>\n",
              "    <tr style=\"text-align: right;\">\n",
              "      <th></th>\n",
              "      <th>stopword</th>\n",
              "    </tr>\n",
              "  </thead>\n",
              "  <tbody>\n",
              "    <tr>\n",
              "      <th>0</th>\n",
              "      <td>xf0</td>\n",
              "    </tr>\n",
              "    <tr>\n",
              "      <th>1</th>\n",
              "      <td>x9f</td>\n",
              "    </tr>\n",
              "    <tr>\n",
              "      <th>2</th>\n",
              "      <td>xe2</td>\n",
              "    </tr>\n",
              "    <tr>\n",
              "      <th>3</th>\n",
              "      <td>xa6</td>\n",
              "    </tr>\n",
              "    <tr>\n",
              "      <th>4</th>\n",
              "      <td>xa4</td>\n",
              "    </tr>\n",
              "  </tbody>\n",
              "</table>\n",
              "</div>"
            ],
            "text/plain": [
              "  stopword\n",
              "0      xf0\n",
              "1      x9f\n",
              "2      xe2\n",
              "3      xa6\n",
              "4      xa4"
            ]
          },
          "metadata": {},
          "execution_count": 26
        }
      ]
    },
    {
      "cell_type": "code",
      "metadata": {
        "colab": {
          "base_uri": "https://localhost:8080/",
          "height": 206
        },
        "id": "sySS5upOQU5N",
        "outputId": "f334cb0f-aa80-49c3-ca36-272361636f16"
      },
      "source": [
        "df.drop(df.iloc[:, 3:12], inplace = True, axis = 1)\n",
        "df.head()"
      ],
      "execution_count": null,
      "outputs": [
        {
          "output_type": "execute_result",
          "data": {
            "text/html": [
              "<div>\n",
              "<style scoped>\n",
              "    .dataframe tbody tr th:only-of-type {\n",
              "        vertical-align: middle;\n",
              "    }\n",
              "\n",
              "    .dataframe tbody tr th {\n",
              "        vertical-align: top;\n",
              "    }\n",
              "\n",
              "    .dataframe thead th {\n",
              "        text-align: right;\n",
              "    }\n",
              "</style>\n",
              "<table border=\"1\" class=\"dataframe\">\n",
              "  <thead>\n",
              "    <tr style=\"text-align: right;\">\n",
              "      <th></th>\n",
              "      <th>Tweet</th>\n",
              "      <th>HS</th>\n",
              "      <th>Abusive</th>\n",
              "      <th>HS_Strong</th>\n",
              "    </tr>\n",
              "  </thead>\n",
              "  <tbody>\n",
              "    <tr>\n",
              "      <th>0</th>\n",
              "      <td>- disaat semua cowok berusaha melacak perhatia...</td>\n",
              "      <td>1</td>\n",
              "      <td>1</td>\n",
              "      <td>0</td>\n",
              "    </tr>\n",
              "    <tr>\n",
              "      <th>1</th>\n",
              "      <td>RT USER: USER siapa yang telat ngasih tau elu?...</td>\n",
              "      <td>0</td>\n",
              "      <td>1</td>\n",
              "      <td>0</td>\n",
              "    </tr>\n",
              "    <tr>\n",
              "      <th>2</th>\n",
              "      <td>41. Kadang aku berfikir, kenapa aku tetap perc...</td>\n",
              "      <td>0</td>\n",
              "      <td>0</td>\n",
              "      <td>0</td>\n",
              "    </tr>\n",
              "    <tr>\n",
              "      <th>3</th>\n",
              "      <td>USER USER AKU ITU AKU\\n\\nKU TAU MATAMU SIPIT T...</td>\n",
              "      <td>0</td>\n",
              "      <td>0</td>\n",
              "      <td>0</td>\n",
              "    </tr>\n",
              "    <tr>\n",
              "      <th>4</th>\n",
              "      <td>USER USER Kaum cebong kapir udah keliatan dong...</td>\n",
              "      <td>1</td>\n",
              "      <td>1</td>\n",
              "      <td>0</td>\n",
              "    </tr>\n",
              "  </tbody>\n",
              "</table>\n",
              "</div>"
            ],
            "text/plain": [
              "                                               Tweet  HS  Abusive  HS_Strong\n",
              "0  - disaat semua cowok berusaha melacak perhatia...   1        1          0\n",
              "1  RT USER: USER siapa yang telat ngasih tau elu?...   0        1          0\n",
              "2  41. Kadang aku berfikir, kenapa aku tetap perc...   0        0          0\n",
              "3  USER USER AKU ITU AKU\\n\\nKU TAU MATAMU SIPIT T...   0        0          0\n",
              "4  USER USER Kaum cebong kapir udah keliatan dong...   1        1          0"
            ]
          },
          "metadata": {},
          "execution_count": 27
        }
      ]
    },
    {
      "cell_type": "code",
      "metadata": {
        "colab": {
          "base_uri": "https://localhost:8080/",
          "height": 206
        },
        "id": "9j6b1vHRQB_S",
        "outputId": "fd369bd8-a877-42b6-c541-f264a6a59a25"
      },
      "source": [
        "df['length'] = df['Tweet'].apply(len)\n",
        "df.head()"
      ],
      "execution_count": null,
      "outputs": [
        {
          "output_type": "execute_result",
          "data": {
            "text/html": [
              "<div>\n",
              "<style scoped>\n",
              "    .dataframe tbody tr th:only-of-type {\n",
              "        vertical-align: middle;\n",
              "    }\n",
              "\n",
              "    .dataframe tbody tr th {\n",
              "        vertical-align: top;\n",
              "    }\n",
              "\n",
              "    .dataframe thead th {\n",
              "        text-align: right;\n",
              "    }\n",
              "</style>\n",
              "<table border=\"1\" class=\"dataframe\">\n",
              "  <thead>\n",
              "    <tr style=\"text-align: right;\">\n",
              "      <th></th>\n",
              "      <th>Tweet</th>\n",
              "      <th>HS</th>\n",
              "      <th>Abusive</th>\n",
              "      <th>HS_Strong</th>\n",
              "      <th>length</th>\n",
              "    </tr>\n",
              "  </thead>\n",
              "  <tbody>\n",
              "    <tr>\n",
              "      <th>0</th>\n",
              "      <td>- disaat semua cowok berusaha melacak perhatia...</td>\n",
              "      <td>1</td>\n",
              "      <td>1</td>\n",
              "      <td>0</td>\n",
              "      <td>138</td>\n",
              "    </tr>\n",
              "    <tr>\n",
              "      <th>1</th>\n",
              "      <td>RT USER: USER siapa yang telat ngasih tau elu?...</td>\n",
              "      <td>0</td>\n",
              "      <td>1</td>\n",
              "      <td>0</td>\n",
              "      <td>120</td>\n",
              "    </tr>\n",
              "    <tr>\n",
              "      <th>2</th>\n",
              "      <td>41. Kadang aku berfikir, kenapa aku tetap perc...</td>\n",
              "      <td>0</td>\n",
              "      <td>0</td>\n",
              "      <td>0</td>\n",
              "      <td>254</td>\n",
              "    </tr>\n",
              "    <tr>\n",
              "      <th>3</th>\n",
              "      <td>USER USER AKU ITU AKU\\n\\nKU TAU MATAMU SIPIT T...</td>\n",
              "      <td>0</td>\n",
              "      <td>0</td>\n",
              "      <td>0</td>\n",
              "      <td>75</td>\n",
              "    </tr>\n",
              "    <tr>\n",
              "      <th>4</th>\n",
              "      <td>USER USER Kaum cebong kapir udah keliatan dong...</td>\n",
              "      <td>1</td>\n",
              "      <td>1</td>\n",
              "      <td>0</td>\n",
              "      <td>89</td>\n",
              "    </tr>\n",
              "  </tbody>\n",
              "</table>\n",
              "</div>"
            ],
            "text/plain": [
              "                                               Tweet  HS  ...  HS_Strong  length\n",
              "0  - disaat semua cowok berusaha melacak perhatia...   1  ...          0     138\n",
              "1  RT USER: USER siapa yang telat ngasih tau elu?...   0  ...          0     120\n",
              "2  41. Kadang aku berfikir, kenapa aku tetap perc...   0  ...          0     254\n",
              "3  USER USER AKU ITU AKU\\n\\nKU TAU MATAMU SIPIT T...   0  ...          0      75\n",
              "4  USER USER Kaum cebong kapir udah keliatan dong...   1  ...          0      89\n",
              "\n",
              "[5 rows x 5 columns]"
            ]
          },
          "metadata": {},
          "execution_count": 28
        }
      ]
    },
    {
      "cell_type": "code",
      "metadata": {
        "colab": {
          "base_uri": "https://localhost:8080/",
          "height": 296
        },
        "id": "8u-20Q4sRTFr",
        "outputId": "4feab071-a403-43ef-b7b9-2dfb4ad4499c"
      },
      "source": [
        "import seaborn as sns\n",
        "sns.countplot(x='HS', data=df)"
      ],
      "execution_count": null,
      "outputs": [
        {
          "output_type": "execute_result",
          "data": {
            "text/plain": [
              "<matplotlib.axes._subplots.AxesSubplot at 0x7efcf9416090>"
            ]
          },
          "metadata": {},
          "execution_count": 29
        },
        {
          "output_type": "display_data",
          "data": {
            "image/png": "[encoded data removed]",
            "text/plain": [
              "<Figure size 432x288 with 1 Axes>"
            ]
          },
          "metadata": {
            "needs_background": "light"
          }
        }
      ]
    },
    {
      "cell_type": "code",
      "metadata": {
        "colab": {
          "base_uri": "https://localhost:8080/",
          "height": 296
        },
        "id": "PtCk9u0CRkKE",
        "outputId": "ebadecab-36d3-4716-8ff0-2ef5a5624300"
      },
      "source": [
        "sns.countplot(x='Abusive', data=df)"
      ],
      "execution_count": null,
      "outputs": [
        {
          "output_type": "execute_result",
          "data": {
            "text/plain": [
              "<matplotlib.axes._subplots.AxesSubplot at 0x7efcf9403750>"
            ]
          },
          "metadata": {},
          "execution_count": 30
        },
        {
          "output_type": "display_data",
          "data": {
            "image/png": "[encoded data removed]",
            "text/plain": [
              "<Figure size 432x288 with 1 Axes>"
            ]
          },
          "metadata": {
            "needs_background": "light"
          }
        }
      ]
    },
    {
      "cell_type": "code",
      "metadata": {
        "colab": {
          "base_uri": "https://localhost:8080/",
          "height": 296
        },
        "id": "ySreeyXkTirz",
        "outputId": "bdfccaca-2d08-4b2a-b99a-2911f8b1302a"
      },
      "source": [
        "sns.countplot(x=\"variable\", hue=\"value\", data=pd.melt(df.iloc[:,1:3]))"
      ],
      "execution_count": null,
      "outputs": [
        {
          "output_type": "execute_result",
          "data": {
            "text/plain": [
              "<matplotlib.axes._subplots.AxesSubplot at 0x7efcf98a66d0>"
            ]
          },
          "metadata": {},
          "execution_count": 31
        },
        {
          "output_type": "display_data",
          "data": {
            "image/png": "[encoded data removed]",
            "text/plain": [
              "<Figure size 432x288 with 1 Axes>"
            ]
          },
          "metadata": {
            "needs_background": "light"
          }
        }
      ]
    },
    {
      "cell_type": "code",
      "metadata": {
        "id": "wIDdk2iPUEUw"
      },
      "source": [
        "factory = StemmerFactory()\n",
        "stemmer = factory.create_stemmer()\n",
        "\n",
        "#lowercase\n",
        "def lowercase(text):\n",
        "    return text.lower()\n",
        "\n",
        "def remove_unnecessary_char(text):\n",
        "    text = re.sub('\\n',' ',text) # Remove every '\\n'\n",
        "    #text = re.sub('rt',' ',text) # Remove every retweet symbol\n",
        "    text = re.sub('((@[^\\s]+)|(#[^\\s]+))',' ',text)\n",
        "    text = re.sub('((www\\.[^\\s]+)|(https?://[^\\s]+)|(http?://[^\\s]+))',' ',text) # Remove every URL\n",
        "    text = re.sub('  +', ' ', text) # Remove extra spaces\n",
        "    return text\n",
        "    \n",
        "def remove_nonaplhanumeric(text):\n",
        "    text = re.sub('[^0-9a-zA-Z]+', ' ', text) \n",
        "    return text\n",
        "\n",
        "replace_dict_map = dict(zip(replace_dict['original'], replace_dict['replacement']))\n",
        "def normalize_alay(text):\n",
        "    return ' '.join([replace_dict_map[word] if word in replace_dict_map else word for word in text.split(' ')])\n",
        "\n",
        "def normalize_alay_new(text):\n",
        "    return ' '.join([replace_dict_new[word] if word in replace_dict_new else word for word in text.split(' ')])\n",
        "\n",
        "def remove_stopword(text):\n",
        "    text = ' '.join(['' if word in stopwords.stopword.values else word for word in text.split(' ')])\n",
        "    text = re.sub('  +', ' ', text) # Remove extra spaces\n",
        "    text = text.strip()\n",
        "    return text\n",
        "\n",
        "def remove_stopword_new(text):\n",
        "    text = ' '.join(['' if word in stopwords_new.stopword.values else word for word in text.split(' ')])\n",
        "    text = re.sub('  +', ' ', text) # Remove extra spaces\n",
        "    text = text.strip()\n",
        "    return text\n",
        "\n",
        "def stemming(text):\n",
        "    return stemmer.stem(text)\n",
        "\n",
        "def preprocess(text):\n",
        "    text = lowercase(text) # 1\n",
        "    text = remove_unnecessary_char(text) # 2\n",
        "    text = remove_nonaplhanumeric(text) # 3\n",
        "    text = normalize_alay(text) # 4\n",
        "    text = normalize_alay_new(text)\n",
        "    text = remove_stopword(text) # 5\n",
        "    text = remove_stopword_new(text) \n",
        "    text = stemming(text) # 6\n",
        "    return text"
      ],
      "execution_count": null,
      "outputs": []
    },
    {
      "cell_type": "code",
      "metadata": {
        "colab": {
          "base_uri": "https://localhost:8080/"
        },
        "id": "DsbY26AoaeAm",
        "outputId": "d8ed5033-26c5-4df6-d964-37c8fc493266"
      },
      "source": [
        "X = df['Tweet'].apply(preprocess)\n",
        "X"
      ],
      "execution_count": null,
      "outputs": [
        {
          "output_type": "execute_result",
          "data": {
            "text/plain": [
              "0        cowok usaha lacak perhati gue lantas remeh per...\n",
              "1        rt guna guna telat tau edan sarap gue gaul cig...\n",
              "2        41 kadang pikir percaya tuhan jatuh kali kali ...\n",
              "3                              guna guna ku tau mata sipit\n",
              "4            guna guna kaum cebong kafir dongok dungu haha\n",
              "                               ...                        \n",
              "13164              guna bicara ndasmu congor sekata anjing\n",
              "13165                               guna kasur enak kunyuk\n",
              "13166                        guna hati hati bisu bosan duh\n",
              "13167    guna guna guna guna bom real mudah deteksi bom...\n",
              "13168                         guna situ foto ya kutil onta\n",
              "Name: Tweet, Length: 13169, dtype: object"
            ]
          },
          "metadata": {},
          "execution_count": 33
        }
      ]
    },
    {
      "cell_type": "code",
      "metadata": {
        "id": "uvCoFq-9fSZ8"
      },
      "source": [
        "df.to_csv('data_clean.csv')"
      ],
      "execution_count": null,
      "outputs": []
    }
  ]
}